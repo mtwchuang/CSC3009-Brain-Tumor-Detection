{
 "cells": [
  {
   "cell_type": "markdown",
   "metadata": {},
   "source": [
    "## Visual Geometry Group Models (VGG16 & VGG19)\n",
    "Documentation to be filled up later BLABLABLA\n",
    "\n",
    "### Installation and Import Checks"
   ]
  },
  {
   "cell_type": "code",
   "execution_count": 87,
   "metadata": {},
   "outputs": [
    {
     "name": "stdout",
     "output_type": "stream",
     "text": [
      "Requirement already satisfied: tensorflow==2.10 in c:\\users\\matthew chuang\\documents\\github\\csc3009-brain-tumor-detection\\dependencies\\lib\\site-packages (2.10.0)\n",
      "Requirement already satisfied: absl-py>=1.0.0 in c:\\users\\matthew chuang\\documents\\github\\csc3009-brain-tumor-detection\\dependencies\\lib\\site-packages (from tensorflow==2.10) (2.1.0)\n",
      "Requirement already satisfied: astunparse>=1.6.0 in c:\\users\\matthew chuang\\documents\\github\\csc3009-brain-tumor-detection\\dependencies\\lib\\site-packages (from tensorflow==2.10) (1.6.3)\n",
      "Requirement already satisfied: flatbuffers>=2.0 in c:\\users\\matthew chuang\\documents\\github\\csc3009-brain-tumor-detection\\dependencies\\lib\\site-packages (from tensorflow==2.10) (24.3.25)\n",
      "Requirement already satisfied: gast<=0.4.0,>=0.2.1 in c:\\users\\matthew chuang\\documents\\github\\csc3009-brain-tumor-detection\\dependencies\\lib\\site-packages (from tensorflow==2.10) (0.4.0)\n",
      "Requirement already satisfied: google-pasta>=0.1.1 in c:\\users\\matthew chuang\\documents\\github\\csc3009-brain-tumor-detection\\dependencies\\lib\\site-packages (from tensorflow==2.10) (0.2.0)\n",
      "Requirement already satisfied: h5py>=2.9.0 in c:\\users\\matthew chuang\\documents\\github\\csc3009-brain-tumor-detection\\dependencies\\lib\\site-packages (from tensorflow==2.10) (3.11.0)\n",
      "Requirement already satisfied: keras-preprocessing>=1.1.1 in c:\\users\\matthew chuang\\documents\\github\\csc3009-brain-tumor-detection\\dependencies\\lib\\site-packages (from tensorflow==2.10) (1.1.2)\n",
      "Requirement already satisfied: libclang>=13.0.0 in c:\\users\\matthew chuang\\documents\\github\\csc3009-brain-tumor-detection\\dependencies\\lib\\site-packages (from tensorflow==2.10) (18.1.1)\n",
      "Requirement already satisfied: numpy>=1.20 in c:\\users\\matthew chuang\\documents\\github\\csc3009-brain-tumor-detection\\dependencies\\lib\\site-packages (from tensorflow==2.10) (1.26.4)\n",
      "Requirement already satisfied: opt-einsum>=2.3.2 in c:\\users\\matthew chuang\\documents\\github\\csc3009-brain-tumor-detection\\dependencies\\lib\\site-packages (from tensorflow==2.10) (3.3.0)\n",
      "Requirement already satisfied: packaging in c:\\users\\matthew chuang\\documents\\github\\csc3009-brain-tumor-detection\\dependencies\\lib\\site-packages (from tensorflow==2.10) (24.0)\n",
      "Requirement already satisfied: protobuf<3.20,>=3.9.2 in c:\\users\\matthew chuang\\documents\\github\\csc3009-brain-tumor-detection\\dependencies\\lib\\site-packages (from tensorflow==2.10) (3.19.6)\n",
      "Requirement already satisfied: setuptools in c:\\users\\matthew chuang\\documents\\github\\csc3009-brain-tumor-detection\\dependencies\\lib\\site-packages (from tensorflow==2.10) (68.0.0)\n",
      "Requirement already satisfied: six>=1.12.0 in c:\\users\\matthew chuang\\documents\\github\\csc3009-brain-tumor-detection\\dependencies\\lib\\site-packages (from tensorflow==2.10) (1.16.0)\n",
      "Requirement already satisfied: termcolor>=1.1.0 in c:\\users\\matthew chuang\\documents\\github\\csc3009-brain-tumor-detection\\dependencies\\lib\\site-packages (from tensorflow==2.10) (2.4.0)\n",
      "Requirement already satisfied: typing-extensions>=3.6.6 in c:\\users\\matthew chuang\\documents\\github\\csc3009-brain-tumor-detection\\dependencies\\lib\\site-packages (from tensorflow==2.10) (4.12.1)\n",
      "Requirement already satisfied: wrapt>=1.11.0 in c:\\users\\matthew chuang\\documents\\github\\csc3009-brain-tumor-detection\\dependencies\\lib\\site-packages (from tensorflow==2.10) (1.16.0)\n",
      "Requirement already satisfied: tensorflow-io-gcs-filesystem>=0.23.1 in c:\\users\\matthew chuang\\documents\\github\\csc3009-brain-tumor-detection\\dependencies\\lib\\site-packages (from tensorflow==2.10) (0.31.0)\n",
      "Requirement already satisfied: grpcio<2.0,>=1.24.3 in c:\\users\\matthew chuang\\documents\\github\\csc3009-brain-tumor-detection\\dependencies\\lib\\site-packages (from tensorflow==2.10) (1.64.1)\n",
      "Requirement already satisfied: tensorboard<2.11,>=2.10 in c:\\users\\matthew chuang\\documents\\github\\csc3009-brain-tumor-detection\\dependencies\\lib\\site-packages (from tensorflow==2.10) (2.10.1)\n",
      "Requirement already satisfied: tensorflow-estimator<2.11,>=2.10.0 in c:\\users\\matthew chuang\\documents\\github\\csc3009-brain-tumor-detection\\dependencies\\lib\\site-packages (from tensorflow==2.10) (2.10.0)\n",
      "Requirement already satisfied: keras<2.11,>=2.10.0 in c:\\users\\matthew chuang\\documents\\github\\csc3009-brain-tumor-detection\\dependencies\\lib\\site-packages (from tensorflow==2.10) (2.10.0)\n",
      "Requirement already satisfied: wheel<1.0,>=0.23.0 in c:\\users\\matthew chuang\\documents\\github\\csc3009-brain-tumor-detection\\dependencies\\lib\\site-packages (from astunparse>=1.6.0->tensorflow==2.10) (0.40.0)\n",
      "Requirement already satisfied: google-auth<3,>=1.6.3 in c:\\users\\matthew chuang\\documents\\github\\csc3009-brain-tumor-detection\\dependencies\\lib\\site-packages (from tensorboard<2.11,>=2.10->tensorflow==2.10) (2.30.0)\n",
      "Requirement already satisfied: google-auth-oauthlib<0.5,>=0.4.1 in c:\\users\\matthew chuang\\documents\\github\\csc3009-brain-tumor-detection\\dependencies\\lib\\site-packages (from tensorboard<2.11,>=2.10->tensorflow==2.10) (0.4.6)\n",
      "Requirement already satisfied: markdown>=2.6.8 in c:\\users\\matthew chuang\\documents\\github\\csc3009-brain-tumor-detection\\dependencies\\lib\\site-packages (from tensorboard<2.11,>=2.10->tensorflow==2.10) (3.6)\n",
      "Requirement already satisfied: requests<3,>=2.21.0 in c:\\users\\matthew chuang\\documents\\github\\csc3009-brain-tumor-detection\\dependencies\\lib\\site-packages (from tensorboard<2.11,>=2.10->tensorflow==2.10) (2.32.3)\n",
      "Requirement already satisfied: tensorboard-data-server<0.7.0,>=0.6.0 in c:\\users\\matthew chuang\\documents\\github\\csc3009-brain-tumor-detection\\dependencies\\lib\\site-packages (from tensorboard<2.11,>=2.10->tensorflow==2.10) (0.6.1)\n",
      "Requirement already satisfied: tensorboard-plugin-wit>=1.6.0 in c:\\users\\matthew chuang\\documents\\github\\csc3009-brain-tumor-detection\\dependencies\\lib\\site-packages (from tensorboard<2.11,>=2.10->tensorflow==2.10) (1.8.1)\n",
      "Requirement already satisfied: werkzeug>=1.0.1 in c:\\users\\matthew chuang\\documents\\github\\csc3009-brain-tumor-detection\\dependencies\\lib\\site-packages (from tensorboard<2.11,>=2.10->tensorflow==2.10) (3.0.3)\n",
      "Requirement already satisfied: cachetools<6.0,>=2.0.0 in c:\\users\\matthew chuang\\documents\\github\\csc3009-brain-tumor-detection\\dependencies\\lib\\site-packages (from google-auth<3,>=1.6.3->tensorboard<2.11,>=2.10->tensorflow==2.10) (5.3.3)\n",
      "Requirement already satisfied: pyasn1-modules>=0.2.1 in c:\\users\\matthew chuang\\documents\\github\\csc3009-brain-tumor-detection\\dependencies\\lib\\site-packages (from google-auth<3,>=1.6.3->tensorboard<2.11,>=2.10->tensorflow==2.10) (0.4.0)\n",
      "Requirement already satisfied: rsa<5,>=3.1.4 in c:\\users\\matthew chuang\\documents\\github\\csc3009-brain-tumor-detection\\dependencies\\lib\\site-packages (from google-auth<3,>=1.6.3->tensorboard<2.11,>=2.10->tensorflow==2.10) (4.9)\n",
      "Requirement already satisfied: requests-oauthlib>=0.7.0 in c:\\users\\matthew chuang\\documents\\github\\csc3009-brain-tumor-detection\\dependencies\\lib\\site-packages (from google-auth-oauthlib<0.5,>=0.4.1->tensorboard<2.11,>=2.10->tensorflow==2.10) (2.0.0)\n",
      "Requirement already satisfied: importlib-metadata>=4.4 in c:\\users\\matthew chuang\\documents\\github\\csc3009-brain-tumor-detection\\dependencies\\lib\\site-packages (from markdown>=2.6.8->tensorboard<2.11,>=2.10->tensorflow==2.10) (7.1.0)\n",
      "Requirement already satisfied: charset-normalizer<4,>=2 in c:\\users\\matthew chuang\\documents\\github\\csc3009-brain-tumor-detection\\dependencies\\lib\\site-packages (from requests<3,>=2.21.0->tensorboard<2.11,>=2.10->tensorflow==2.10) (3.3.2)\n",
      "Requirement already satisfied: idna<4,>=2.5 in c:\\users\\matthew chuang\\documents\\github\\csc3009-brain-tumor-detection\\dependencies\\lib\\site-packages (from requests<3,>=2.21.0->tensorboard<2.11,>=2.10->tensorflow==2.10) (3.7)\n",
      "Requirement already satisfied: urllib3<3,>=1.21.1 in c:\\users\\matthew chuang\\documents\\github\\csc3009-brain-tumor-detection\\dependencies\\lib\\site-packages (from requests<3,>=2.21.0->tensorboard<2.11,>=2.10->tensorflow==2.10) (2.2.1)\n",
      "Requirement already satisfied: certifi>=2017.4.17 in c:\\users\\matthew chuang\\documents\\github\\csc3009-brain-tumor-detection\\dependencies\\lib\\site-packages (from requests<3,>=2.21.0->tensorboard<2.11,>=2.10->tensorflow==2.10) (2024.6.2)\n",
      "Requirement already satisfied: MarkupSafe>=2.1.1 in c:\\users\\matthew chuang\\documents\\github\\csc3009-brain-tumor-detection\\dependencies\\lib\\site-packages (from werkzeug>=1.0.1->tensorboard<2.11,>=2.10->tensorflow==2.10) (2.1.5)\n",
      "Requirement already satisfied: zipp>=0.5 in c:\\users\\matthew chuang\\documents\\github\\csc3009-brain-tumor-detection\\dependencies\\lib\\site-packages (from importlib-metadata>=4.4->markdown>=2.6.8->tensorboard<2.11,>=2.10->tensorflow==2.10) (3.19.1)\n",
      "Requirement already satisfied: pyasn1<0.7.0,>=0.4.6 in c:\\users\\matthew chuang\\documents\\github\\csc3009-brain-tumor-detection\\dependencies\\lib\\site-packages (from pyasn1-modules>=0.2.1->google-auth<3,>=1.6.3->tensorboard<2.11,>=2.10->tensorflow==2.10) (0.6.0)\n",
      "Requirement already satisfied: oauthlib>=3.0.0 in c:\\users\\matthew chuang\\documents\\github\\csc3009-brain-tumor-detection\\dependencies\\lib\\site-packages (from requests-oauthlib>=0.7.0->google-auth-oauthlib<0.5,>=0.4.1->tensorboard<2.11,>=2.10->tensorflow==2.10) (3.2.2)\n",
      "Note: you may need to restart the kernel to use updated packages.\n",
      "Requirement already satisfied: scikit-learn in c:\\users\\matthew chuang\\documents\\github\\csc3009-brain-tumor-detection\\dependencies\\lib\\site-packages (1.5.0)\n",
      "Requirement already satisfied: numpy>=1.19.5 in c:\\users\\matthew chuang\\documents\\github\\csc3009-brain-tumor-detection\\dependencies\\lib\\site-packages (from scikit-learn) (1.26.4)\n",
      "Requirement already satisfied: scipy>=1.6.0 in c:\\users\\matthew chuang\\documents\\github\\csc3009-brain-tumor-detection\\dependencies\\lib\\site-packages (from scikit-learn) (1.13.1)\n",
      "Requirement already satisfied: joblib>=1.2.0 in c:\\users\\matthew chuang\\documents\\github\\csc3009-brain-tumor-detection\\dependencies\\lib\\site-packages (from scikit-learn) (1.4.2)\n",
      "Requirement already satisfied: threadpoolctl>=3.1.0 in c:\\users\\matthew chuang\\documents\\github\\csc3009-brain-tumor-detection\\dependencies\\lib\\site-packages (from scikit-learn) (3.5.0)\n",
      "Note: you may need to restart the kernel to use updated packages.\n",
      "Requirement already satisfied: matplotlib in c:\\users\\matthew chuang\\documents\\github\\csc3009-brain-tumor-detection\\dependencies\\lib\\site-packages (3.9.0)\n",
      "Requirement already satisfied: contourpy>=1.0.1 in c:\\users\\matthew chuang\\documents\\github\\csc3009-brain-tumor-detection\\dependencies\\lib\\site-packages (from matplotlib) (1.2.1)\n",
      "Requirement already satisfied: cycler>=0.10 in c:\\users\\matthew chuang\\documents\\github\\csc3009-brain-tumor-detection\\dependencies\\lib\\site-packages (from matplotlib) (0.12.1)\n",
      "Requirement already satisfied: fonttools>=4.22.0 in c:\\users\\matthew chuang\\documents\\github\\csc3009-brain-tumor-detection\\dependencies\\lib\\site-packages (from matplotlib) (4.53.0)\n",
      "Requirement already satisfied: kiwisolver>=1.3.1 in c:\\users\\matthew chuang\\documents\\github\\csc3009-brain-tumor-detection\\dependencies\\lib\\site-packages (from matplotlib) (1.4.5)\n",
      "Requirement already satisfied: numpy>=1.23 in c:\\users\\matthew chuang\\documents\\github\\csc3009-brain-tumor-detection\\dependencies\\lib\\site-packages (from matplotlib) (1.26.4)\n",
      "Requirement already satisfied: packaging>=20.0 in c:\\users\\matthew chuang\\documents\\github\\csc3009-brain-tumor-detection\\dependencies\\lib\\site-packages (from matplotlib) (24.0)\n",
      "Requirement already satisfied: pillow>=8 in c:\\users\\matthew chuang\\documents\\github\\csc3009-brain-tumor-detection\\dependencies\\lib\\site-packages (from matplotlib) (10.3.0)\n",
      "Requirement already satisfied: pyparsing>=2.3.1 in c:\\users\\matthew chuang\\documents\\github\\csc3009-brain-tumor-detection\\dependencies\\lib\\site-packages (from matplotlib) (3.1.2)\n",
      "Requirement already satisfied: python-dateutil>=2.7 in c:\\users\\matthew chuang\\documents\\github\\csc3009-brain-tumor-detection\\dependencies\\lib\\site-packages (from matplotlib) (2.9.0.post0)\n",
      "Requirement already satisfied: importlib-resources>=3.2.0 in c:\\users\\matthew chuang\\documents\\github\\csc3009-brain-tumor-detection\\dependencies\\lib\\site-packages (from matplotlib) (6.4.0)\n",
      "Requirement already satisfied: zipp>=3.1.0 in c:\\users\\matthew chuang\\documents\\github\\csc3009-brain-tumor-detection\\dependencies\\lib\\site-packages (from importlib-resources>=3.2.0->matplotlib) (3.19.1)\n",
      "Requirement already satisfied: six>=1.5 in c:\\users\\matthew chuang\\documents\\github\\csc3009-brain-tumor-detection\\dependencies\\lib\\site-packages (from python-dateutil>=2.7->matplotlib) (1.16.0)\n",
      "Note: you may need to restart the kernel to use updated packages.\n",
      "Requirement already satisfied: keras_tuner in c:\\users\\matthew chuang\\documents\\github\\csc3009-brain-tumor-detection\\dependencies\\lib\\site-packages (1.4.7)\n",
      "Requirement already satisfied: keras in c:\\users\\matthew chuang\\documents\\github\\csc3009-brain-tumor-detection\\dependencies\\lib\\site-packages (from keras_tuner) (2.10.0)\n",
      "Requirement already satisfied: packaging in c:\\users\\matthew chuang\\documents\\github\\csc3009-brain-tumor-detection\\dependencies\\lib\\site-packages (from keras_tuner) (24.0)\n",
      "Requirement already satisfied: requests in c:\\users\\matthew chuang\\documents\\github\\csc3009-brain-tumor-detection\\dependencies\\lib\\site-packages (from keras_tuner) (2.32.3)\n",
      "Requirement already satisfied: kt-legacy in c:\\users\\matthew chuang\\documents\\github\\csc3009-brain-tumor-detection\\dependencies\\lib\\site-packages (from keras_tuner) (1.0.5)\n",
      "Requirement already satisfied: charset-normalizer<4,>=2 in c:\\users\\matthew chuang\\documents\\github\\csc3009-brain-tumor-detection\\dependencies\\lib\\site-packages (from requests->keras_tuner) (3.3.2)\n",
      "Requirement already satisfied: idna<4,>=2.5 in c:\\users\\matthew chuang\\documents\\github\\csc3009-brain-tumor-detection\\dependencies\\lib\\site-packages (from requests->keras_tuner) (3.7)\n",
      "Requirement already satisfied: urllib3<3,>=1.21.1 in c:\\users\\matthew chuang\\documents\\github\\csc3009-brain-tumor-detection\\dependencies\\lib\\site-packages (from requests->keras_tuner) (2.2.1)\n",
      "Requirement already satisfied: certifi>=2017.4.17 in c:\\users\\matthew chuang\\documents\\github\\csc3009-brain-tumor-detection\\dependencies\\lib\\site-packages (from requests->keras_tuner) (2024.6.2)\n",
      "Note: you may need to restart the kernel to use updated packages.\n"
     ]
    }
   ],
   "source": [
    "%pip install tensorflow==2.10\n",
    "%pip install scikit-learn\n",
    "%pip install matplotlib\n",
    "%matplotlib inline\n",
    "%pip install keras_tuner"
   ]
  },
  {
   "cell_type": "code",
   "execution_count": 88,
   "metadata": {},
   "outputs": [],
   "source": [
    "import numpy as np\n",
    "# Machine Learning\n",
    "import tensorflow as tf\n",
    "from tensorflow.keras.applications import VGG16, VGG19\n",
    "from tensorflow.keras.layers import Dense, Flatten, Dropout, GlobalAveragePooling2D, BatchNormalization\n",
    "from tensorflow.keras.models import Model\n",
    "from tensorflow.keras.constraints import max_norm\n",
    "from tensorflow.keras.preprocessing.image import ImageDataGenerator\n",
    "from tensorflow.keras.optimizers import Adam\n",
    "from tensorflow.keras.callbacks import ModelCheckpoint, EarlyStopping\n",
    "from tensorflow.keras.utils import to_categorical\n",
    "from sklearn.model_selection import train_test_split\n",
    "import keras_tuner as kt\n",
    "# Plotting\n",
    "import matplotlib.pyplot as plt"
   ]
  },
  {
   "cell_type": "markdown",
   "metadata": {},
   "source": [
    "### Optional: GPU Acceleration Check\n",
    "Checks Tensorflow Version and GPU detection. \n",
    "If GPU detected, output should be something like \"Num GPUs Available:  1\""
   ]
  },
  {
   "cell_type": "code",
   "execution_count": 89,
   "metadata": {},
   "outputs": [
    {
     "name": "stdout",
     "output_type": "stream",
     "text": [
      "TensorFlow version: 2.10.0\n",
      "Num GPUs Available:  1\n",
      "Physical Devices: [PhysicalDevice(name='/physical_device:CPU:0', device_type='CPU'), PhysicalDevice(name='/physical_device:GPU:0', device_type='GPU')]\n"
     ]
    }
   ],
   "source": [
    "print(\"TensorFlow version:\", tf.__version__)\n",
    "print(\"Num GPUs Available: \", len(tf.config.list_physical_devices('GPU')))\n",
    "physical_devices = tf.config.list_physical_devices()\n",
    "print(\"Physical Devices:\", physical_devices)"
   ]
  },
  {
   "cell_type": "markdown",
   "metadata": {},
   "source": [
    "### Load and Split Prepared Data\n",
    "Loads in preprocessed data from the ./prepared_data directory for x and y features. "
   ]
  },
  {
   "cell_type": "code",
   "execution_count": 90,
   "metadata": {},
   "outputs": [],
   "source": [
    "# Load the data\n",
    "x_input = np.load('prepared_data/x_input_combined.npy')\n",
    "y_output = np.load('prepared_data/y_output_combined.npy')\n",
    "\n",
    "# Ensure y is output hot coded\n",
    "y_output = to_categorical(y_output, num_classes=4)\n",
    "# Resizes images to 224 x 224 for optimal size for VGG models\n",
    "x_input_resized = np.array([tf.image.resize(image, (224, 224)).numpy() for image in x_input])"
   ]
  },
  {
   "cell_type": "markdown",
   "metadata": {},
   "source": [
    "Splits for training and testing 80/20 ratio"
   ]
  },
  {
   "cell_type": "code",
   "execution_count": 91,
   "metadata": {},
   "outputs": [
    {
     "name": "stdout",
     "output_type": "stream",
     "text": [
      "X Training Data\n",
      "Number of Rows: 1536\n",
      "Pixel Dimensions: 224x224x3\n",
      "\n",
      "Y Training Data\n",
      "Number of Rows: 1536\n",
      "Number of Classes: 4\n",
      "\n",
      "X Testing Data\n",
      "Number of Rows: 384\n",
      "Pixel Dimensions: 224x224x3\n",
      "\n",
      "Y Training Data\n",
      "Number of Rows: 384\n",
      "Number of Classes: 4\n"
     ]
    }
   ],
   "source": [
    "# Split the data into training and testing sets\n",
    "x_input_train, x_input_test, y_output_train, y_output_test = train_test_split(x_input_resized, y_output, test_size=0.2, random_state=42)\n",
    "\n",
    "# Printing Dimensions of data\n",
    "print(f'X Training Data\\nNumber of Rows: {x_input_train.shape[0]}\\nPixel Dimensions: {x_input_train.shape[1]}x{x_input_train.shape[2]}x{x_input_train.shape[3]}\\n')\n",
    "print(f'Y Training Data\\nNumber of Rows: {y_output_train.shape[0]}\\nNumber of Classes: {y_output_train.shape[1]}\\n')\n",
    "print(f'X Testing Data\\nNumber of Rows: {x_input_test.shape[0]}\\nPixel Dimensions: {x_input_test.shape[1]}x{x_input_test.shape[2]}x{x_input_test.shape[3]}\\n')\n",
    "print(f'Y Training Data\\nNumber of Rows: {y_output_test.shape[0]}\\nNumber of Classes: {y_output_test.shape[1]}')"
   ]
  },
  {
   "cell_type": "markdown",
   "metadata": {},
   "source": [
    "### Optional: Hyperparameter Optimisation\n",
    "For hyperparameter optimisation, the team experimented with the keras tuner on the simpler VGG model VGG16. We created a function that iterates through different models builds trying out different number of neurons, dropout and learning rates to see which works best for the model, which will be used as the most optimal parameters for our trained model subsequently. "
   ]
  },
  {
   "cell_type": "code",
   "execution_count": 92,
   "metadata": {},
   "outputs": [],
   "source": [
    "# # Function to build the model\n",
    "# def build_model(hp):\n",
    "#     base_vgg16_model = VGG16(weights='imagenet', include_top=False, input_shape=(128, 128, 3))\n",
    "    \n",
    "#     for layer in base_vgg16_model.layers:\n",
    "#         layer.trainable = False\n",
    "\n",
    "#     x = base_vgg16_model.output\n",
    "#     x = GlobalAveragePooling2D()(x)\n",
    "#     x = BatchNormalization()(x)\n",
    "    \n",
    "#     # Tune the number of units in the first dense layer\n",
    "#     units_1 = hp.Int('units_1', min_value=512, max_value=1024, step=128)\n",
    "#     x = Dense(units_1, activation='relu', kernel_constraint=max_norm(3))(x)\n",
    "    \n",
    "#     # Tune the dropout rate\n",
    "#     dropout_1 = hp.Float('dropout_1', min_value=0.2, max_value=0.5, step=0.1)\n",
    "#     x = Dropout(dropout_1)(x)\n",
    "    \n",
    "#     # Tune the number of units in the second dense layer\n",
    "#     units_2 = hp.Int('units_2', min_value=256, max_value=512, step=128)\n",
    "#     x = Dense(units_2, activation='relu', kernel_constraint=max_norm(3))(x)\n",
    "    \n",
    "#     # Tune the dropout rate\n",
    "#     dropout_2 = hp.Float('dropout_2', min_value=0.2, max_value=0.5, step=0.1)\n",
    "#     x = Dropout(dropout_2)(x)\n",
    "    \n",
    "#     new_output_layer_vgg16 = Dense(4, activation='softmax')(x)  # 4 classes: no tumor, glioma, meningioma, pituitary\n",
    "    \n",
    "#     model = Model(inputs=base_vgg16_model.input, outputs=new_output_layer_vgg16)\n",
    "    \n",
    "#     # Tune the learning rate\n",
    "#     learning_rate = hp.Choice('learning_rate', values=[1e-2, 1e-3, 1e-4])\n",
    "#     model.compile(optimizer=Adam(learning_rate=learning_rate),\n",
    "#                   loss='categorical_crossentropy',\n",
    "#                   metrics=['accuracy'])\n",
    "    \n",
    "#     return model"
   ]
  },
  {
   "cell_type": "code",
   "execution_count": 93,
   "metadata": {},
   "outputs": [],
   "source": [
    "# # Set up the tuner\n",
    "# tuner = kt.RandomSearch(\n",
    "#     build_model,\n",
    "#     objective='val_accuracy',\n",
    "#     max_trials=30,\n",
    "#     executions_per_trial=1,\n",
    "#     directory='kt_tuner_vggtest'\n",
    "#     project_name='brain_tumor_classification'\n",
    "# )\n",
    "\n",
    "# # Define callbacks\n",
    "# checkpoint = ModelCheckpoint('model_checkpoints/vgg16_best_model.keras', monitor='val_loss', save_best_only=True, verbose=1)\n",
    "# early_stopping = EarlyStopping(monitor='val_loss', patience=10, verbose=1)\n",
    "\n",
    "# # Run the hyperparameter search\n",
    "# tuner.search(x_input_train, y_output_train, epochs=25, validation_data=(x_input_test, y_output_test), callbacks=[checkpoint, early_stopping])\n",
    "\n",
    "# # Get the optimal hyperparameters\n",
    "# best_hps = tuner.get_best_hyperparameters(num_trials=1)[0]\n",
    "\n",
    "# print(f\"\"\"\n",
    "# The optimal number of units in the first dense layer is {best_hps.get('units_1')}.\n",
    "# The optimal dropout rate for the first dropout layer is {best_hps.get('dropout_1')}.\n",
    "# The optimal number of units in the second dense layer is {best_hps.get('units_2')}.\n",
    "# The optimal dropout rate for the second dropout layer is {best_hps.get('dropout_2')}.\n",
    "# The optimal learning rate for the optimizer is {best_hps.get('learning_rate')}.\n",
    "# \"\"\")"
   ]
  },
  {
   "cell_type": "markdown",
   "metadata": {},
   "source": [
    "### Loading and Defining VGG16 & VGG19 Model\n",
    "In this step, we define our base model by call the pretrained VGG models from Tensorflow. The model is loaded with the weightages trained from the ImageNet dataset and we define the inputs dimensions that model should expect. We also remove the top output layer such that we can add it on later. These layers are our base models that will not be changed. \n",
    "* weights='imagenet' > Loads weightages from ImageNet data training\n",
    "* include_top = False > Exclude top layers of model, to add custom top layers (tuning with our data)\n",
    "* input_shape > Specify the dimensions of our input data, which is given as 224 x 224 pixels and 3 representing color channels in each image (RGB)\n",
    "\n"
   ]
  },
  {
   "cell_type": "code",
   "execution_count": 94,
   "metadata": {},
   "outputs": [],
   "source": [
    "# # Load the VGG16 model pre-trained on ImageNet\n",
    "# base_vgg16_model = VGG16(weights='imagenet', include_top=False, input_shape=(224, 224, 3))"
   ]
  },
  {
   "cell_type": "code",
   "execution_count": 95,
   "metadata": {},
   "outputs": [],
   "source": [
    "# Load the VGG19 model pre-trained on ImageNet\n",
    "base_vgg19_model = VGG19(weights='imagenet', include_top=False, input_shape=(224, 224, 3))"
   ]
  },
  {
   "cell_type": "markdown",
   "metadata": {},
   "source": [
    "After we drop the last output layer, we need to define our own layers to supplement the base model which will be used to fine tune the model to our specific needs. These models will not be frozen and will be manipulated and affected by the the data we feed in. For the other existing models within VGG, we freeze them to avoid amending them. \n",
    "\n",
    "Resources for Layering Operations:\n",
    "* How Global Average Pooling works: https://saturncloud.io/blog/understanding-the-difference-between-flatten-and-globalaveragepooling2d-in-keras/#:~:text=with%20nine%20elements.-,What%20is%20GlobalAveragePooling2D()%20in%20Keras%3F,an%20operation%20on%20the%20data.\n",
    "* How Batch Normalisation works: https://arxiv.org/abs/1502.03167\n",
    "* How kernal constraints works: https://keras.io/api/layers/constraints/#:~:text=MaxNorm%20class&text=Constrains%20the%20weights%20incident%20to,max_norm%20.\n",
    "* How dropout layers works: https://www.tensorflow.org/api_docs/python/tf/keras/layers/Dropout#:~:text=The%20Dropout%20layer%20randomly%20sets,over%20all%20inputs%20is%20unchanged.\n"
   ]
  },
  {
   "cell_type": "code",
   "execution_count": 96,
   "metadata": {},
   "outputs": [],
   "source": [
    "# # Adds average pool layer to reduce dimensionality of feature maps\n",
    "# new_layers_vgg16 = GlobalAveragePooling2D()(base_vgg16_model.output)\n",
    "# # Adds a normalisation layer to enhance performance with bigger batch sizes (32)\n",
    "# new_layers_vgg16 = BatchNormalization()(new_layers_vgg16)\n",
    "# # Add first dense layer of 1024 neurons with RELU, adds weight constraints, regularising weights directly\n",
    "# new_layers_vgg16 = Dense(1024, activation='relu', kernel_constraint=max_norm(3))(new_layers_vgg16)\n",
    "# # Add first dropout layer with 20% dropout rate to avoid overfitting   \n",
    "# new_layers_vgg16 = Dropout(0.2)(new_layers_vgg16)\n",
    "# # Add second dense layer of 384 neurons with RELU, adds weight constraints, regularising weights directly\n",
    "# new_layers_vgg16 = Dense(384, activation='relu', kernel_constraint=max_norm(3))(new_layers_vgg16)\n",
    "# # Add second dropout layer with 20% dropout rate to avoid overfitting  \n",
    "# new_layers_vgg16 = Dropout(0.2)(new_layers_vgg16)\n",
    "# # Add final output layer with four neurons corresponding to four classes with activation as softmax to predict probability of each class\n",
    "# output_layer_vgg16 = Dense(4, activation='softmax')(new_layers_vgg16)\n",
    "\n",
    "# # Define the model\n",
    "# vgg16_brain_tumor_model = Model(inputs=base_vgg16_model.input, outputs=output_layer_vgg16)\n",
    "\n",
    "# # Freeze the layers of the base model\n",
    "# for layer in base_vgg16_model.layers:\n",
    "#     layer.trainable = False"
   ]
  },
  {
   "cell_type": "code",
   "execution_count": 101,
   "metadata": {},
   "outputs": [],
   "source": [
    "# Adds average pool layer to reduce dimensionality of feature maps\n",
    "new_layers_vgg19 = GlobalAveragePooling2D()(base_vgg19_model.output)\n",
    "# Adds a normalisation layer to enhance performance with bigger batch sizes (32)\n",
    "new_layers_vgg19 = BatchNormalization()(new_layers_vgg19)\n",
    "# Add first dense layer of 1024 neurons with RELU, adds weight constraints, regularising weights directly\n",
    "new_layers_vgg19 = Dense(1024, activation='relu', kernel_constraint=max_norm(3))(new_layers_vgg19)\n",
    "# Add first dropout layer with 20% dropout rate to avoid overfitting   \n",
    "new_layers_vgg19 = Dropout(0.2)(new_layers_vgg19)\n",
    "# Add second dense layer of 384 neurons with RELU, adds weight constraints, regularising weights directly\n",
    "new_layers_vgg19 = Dense(384, activation='relu', kernel_constraint=max_norm(3))(new_layers_vgg19)\n",
    "# Add second dropout layer with 20% dropout rate to avoid overfitting  \n",
    "new_layers_vgg19 = Dropout(0.2)(new_layers_vgg19)\n",
    "# Add final output layer with four neurons corresponding to four classes with activation as softmax to predict probability of each class\n",
    "output_layer_vgg19 = Dense(4, activation='softmax')(new_layers_vgg19)\n",
    "\n",
    "# Define the model\n",
    "vgg19_brain_tumor_model = Model(inputs=base_vgg19_model.input, outputs=output_layer_vgg19)\n",
    "\n",
    "# Freeze the layers of the base model\n",
    "for layer in base_vgg19_model.layers:\n",
    "    layer.trainable = False"
   ]
  },
  {
   "cell_type": "markdown",
   "metadata": {},
   "source": [
    "### Training the VGG16 & VGG19 Models\n"
   ]
  },
  {
   "cell_type": "code",
   "execution_count": 98,
   "metadata": {},
   "outputs": [],
   "source": [
    "# # Compile the model\n",
    "# vgg16_brain_tumor_model.compile(optimizer=Adam(learning_rate=0.001), loss='categorical_crossentropy', metrics=['accuracy'])\n",
    "\n",
    "# # Define callbacks\n",
    "# checkpoint_vgg16 = ModelCheckpoint('model_checkpoints/vgg16_brain_tumor.keras', monitor='val_loss', save_best_only=True, verbose=1)\n",
    "# early_stopping_vgg16 = EarlyStopping(monitor='val_loss', patience=10, verbose=1)\n",
    "\n",
    "# # Train the model\n",
    "# trained_vgg16_model = vgg16_brain_tumor_model.fit(x_input_train, y_output_train, epochs=25, validation_data=(x_input_test, y_output_test), \n",
    "#                     callbacks=[checkpoint_vgg16, early_stopping_vgg16])"
   ]
  },
  {
   "cell_type": "code",
   "execution_count": 102,
   "metadata": {},
   "outputs": [
    {
     "name": "stdout",
     "output_type": "stream",
     "text": [
      "Epoch 1/25\n",
      "48/48 [==============================] - ETA: 0s - loss: 0.7279 - accuracy: 0.6999\n",
      "Epoch 1: val_loss improved from inf to 1.11063, saving model to /model_checkpoints\\vgg19_brain_tumor.keras\n",
      "48/48 [==============================] - 5s 101ms/step - loss: 0.7279 - accuracy: 0.6999 - val_loss: 1.1106 - val_accuracy: 0.6484\n",
      "Epoch 2/25\n",
      "48/48 [==============================] - ETA: 0s - loss: 0.3563 - accuracy: 0.8724\n",
      "Epoch 2: val_loss did not improve from 1.11063\n",
      "48/48 [==============================] - 4s 89ms/step - loss: 0.3563 - accuracy: 0.8724 - val_loss: 1.1176 - val_accuracy: 0.5885\n",
      "Epoch 3/25\n",
      "48/48 [==============================] - ETA: 0s - loss: 0.2595 - accuracy: 0.9095\n",
      "Epoch 3: val_loss improved from 1.11063 to 0.93150, saving model to /model_checkpoints\\vgg19_brain_tumor.keras\n",
      "48/48 [==============================] - 4s 89ms/step - loss: 0.2595 - accuracy: 0.9095 - val_loss: 0.9315 - val_accuracy: 0.6667\n",
      "Epoch 4/25\n",
      "48/48 [==============================] - ETA: 0s - loss: 0.1700 - accuracy: 0.9427\n",
      "Epoch 4: val_loss improved from 0.93150 to 0.84789, saving model to /model_checkpoints\\vgg19_brain_tumor.keras\n",
      "48/48 [==============================] - 4s 90ms/step - loss: 0.1700 - accuracy: 0.9427 - val_loss: 0.8479 - val_accuracy: 0.6094\n",
      "Epoch 5/25\n",
      "48/48 [==============================] - ETA: 0s - loss: 0.1789 - accuracy: 0.9316\n",
      "Epoch 5: val_loss improved from 0.84789 to 0.56732, saving model to /model_checkpoints\\vgg19_brain_tumor.keras\n",
      "48/48 [==============================] - 4s 89ms/step - loss: 0.1789 - accuracy: 0.9316 - val_loss: 0.5673 - val_accuracy: 0.8021\n",
      "Epoch 6/25\n",
      "48/48 [==============================] - ETA: 0s - loss: 0.0770 - accuracy: 0.9753\n",
      "Epoch 6: val_loss improved from 0.56732 to 0.44684, saving model to /model_checkpoints\\vgg19_brain_tumor.keras\n",
      "48/48 [==============================] - 4s 89ms/step - loss: 0.0770 - accuracy: 0.9753 - val_loss: 0.4468 - val_accuracy: 0.8177\n",
      "Epoch 7/25\n",
      "48/48 [==============================] - ETA: 0s - loss: 0.1513 - accuracy: 0.9538\n",
      "Epoch 7: val_loss improved from 0.44684 to 0.39742, saving model to /model_checkpoints\\vgg19_brain_tumor.keras\n",
      "48/48 [==============================] - 4s 90ms/step - loss: 0.1513 - accuracy: 0.9538 - val_loss: 0.3974 - val_accuracy: 0.8542\n",
      "Epoch 8/25\n",
      "48/48 [==============================] - ETA: 0s - loss: 0.0944 - accuracy: 0.9688\n",
      "Epoch 8: val_loss improved from 0.39742 to 0.29592, saving model to /model_checkpoints\\vgg19_brain_tumor.keras\n",
      "48/48 [==============================] - 4s 90ms/step - loss: 0.0944 - accuracy: 0.9688 - val_loss: 0.2959 - val_accuracy: 0.8906\n",
      "Epoch 9/25\n",
      "48/48 [==============================] - ETA: 0s - loss: 0.0719 - accuracy: 0.9733\n",
      "Epoch 9: val_loss improved from 0.29592 to 0.27430, saving model to /model_checkpoints\\vgg19_brain_tumor.keras\n",
      "48/48 [==============================] - 4s 90ms/step - loss: 0.0719 - accuracy: 0.9733 - val_loss: 0.2743 - val_accuracy: 0.9219\n",
      "Epoch 10/25\n",
      "48/48 [==============================] - ETA: 0s - loss: 0.0308 - accuracy: 0.9915\n",
      "Epoch 10: val_loss improved from 0.27430 to 0.18427, saving model to /model_checkpoints\\vgg19_brain_tumor.keras\n",
      "48/48 [==============================] - 4s 90ms/step - loss: 0.0308 - accuracy: 0.9915 - val_loss: 0.1843 - val_accuracy: 0.9453\n",
      "Epoch 11/25\n",
      "48/48 [==============================] - ETA: 0s - loss: 0.0424 - accuracy: 0.9831\n",
      "Epoch 11: val_loss did not improve from 0.18427\n",
      "48/48 [==============================] - 4s 87ms/step - loss: 0.0424 - accuracy: 0.9831 - val_loss: 0.2677 - val_accuracy: 0.9036\n",
      "Epoch 12/25\n",
      "48/48 [==============================] - ETA: 0s - loss: 0.0676 - accuracy: 0.9772\n",
      "Epoch 12: val_loss did not improve from 0.18427\n",
      "48/48 [==============================] - 4s 88ms/step - loss: 0.0676 - accuracy: 0.9772 - val_loss: 0.2686 - val_accuracy: 0.9167\n",
      "Epoch 13/25\n",
      "48/48 [==============================] - ETA: 0s - loss: 0.0784 - accuracy: 0.9740\n",
      "Epoch 13: val_loss did not improve from 0.18427\n",
      "48/48 [==============================] - 4s 89ms/step - loss: 0.0784 - accuracy: 0.9740 - val_loss: 0.3139 - val_accuracy: 0.8932\n",
      "Epoch 14/25\n",
      "48/48 [==============================] - ETA: 0s - loss: 0.0579 - accuracy: 0.9792\n",
      "Epoch 14: val_loss did not improve from 0.18427\n",
      "48/48 [==============================] - 4s 88ms/step - loss: 0.0579 - accuracy: 0.9792 - val_loss: 0.3615 - val_accuracy: 0.8958\n",
      "Epoch 15/25\n",
      "48/48 [==============================] - ETA: 0s - loss: 0.0604 - accuracy: 0.9785\n",
      "Epoch 15: val_loss did not improve from 0.18427\n",
      "48/48 [==============================] - 4s 88ms/step - loss: 0.0604 - accuracy: 0.9785 - val_loss: 0.4257 - val_accuracy: 0.8854\n",
      "Epoch 16/25\n",
      "48/48 [==============================] - ETA: 0s - loss: 0.0574 - accuracy: 0.9805\n",
      "Epoch 16: val_loss did not improve from 0.18427\n",
      "48/48 [==============================] - 4s 88ms/step - loss: 0.0574 - accuracy: 0.9805 - val_loss: 0.2541 - val_accuracy: 0.9193\n",
      "Epoch 17/25\n",
      "48/48 [==============================] - ETA: 0s - loss: 0.0394 - accuracy: 0.9863\n",
      "Epoch 17: val_loss did not improve from 0.18427\n",
      "48/48 [==============================] - 4s 90ms/step - loss: 0.0394 - accuracy: 0.9863 - val_loss: 0.2084 - val_accuracy: 0.9427\n",
      "Epoch 18/25\n",
      "48/48 [==============================] - ETA: 0s - loss: 0.0335 - accuracy: 0.9876\n",
      "Epoch 18: val_loss did not improve from 0.18427\n",
      "48/48 [==============================] - 4s 90ms/step - loss: 0.0335 - accuracy: 0.9876 - val_loss: 0.2899 - val_accuracy: 0.9271\n",
      "Epoch 19/25\n",
      "48/48 [==============================] - ETA: 0s - loss: 0.0519 - accuracy: 0.9863\n",
      "Epoch 19: val_loss did not improve from 0.18427\n",
      "48/48 [==============================] - 4s 89ms/step - loss: 0.0519 - accuracy: 0.9863 - val_loss: 0.2567 - val_accuracy: 0.9271\n",
      "Epoch 20/25\n",
      "48/48 [==============================] - ETA: 0s - loss: 0.0366 - accuracy: 0.9870\n",
      "Epoch 20: val_loss did not improve from 0.18427\n",
      "48/48 [==============================] - 4s 89ms/step - loss: 0.0366 - accuracy: 0.9870 - val_loss: 0.2401 - val_accuracy: 0.9297\n",
      "Epoch 20: early stopping\n"
     ]
    }
   ],
   "source": [
    "# Compile the model\n",
    "vgg19_brain_tumor_model.compile(optimizer=Adam(learning_rate=0.001), loss='categorical_crossentropy', metrics=['accuracy'])\n",
    "\n",
    "# Define callbacks\n",
    "checkpoint_vgg19 = ModelCheckpoint('/model_checkpoints/vgg19_brain_tumor.keras', monitor='val_loss', save_best_only=True, verbose=1)\n",
    "early_stopping_vgg19 = EarlyStopping(monitor='val_loss', patience=10, verbose=1)\n",
    "\n",
    "# Train the model\n",
    "trained_vgg19_model = vgg19_brain_tumor_model.fit(x_input_train, y_output_train, epochs=25, validation_data=(x_input_test, y_output_test), \n",
    "                    callbacks=[checkpoint_vgg19, early_stopping_vgg19])"
   ]
  },
  {
   "cell_type": "markdown",
   "metadata": {},
   "source": [
    "### Plotting VGG Model Performances"
   ]
  },
  {
   "cell_type": "code",
   "execution_count": null,
   "metadata": {},
   "outputs": [],
   "source": [
    "def plot_model_performance(history, title):\n",
    "    \"\"\"\n",
    "    Plot training and validation loss and accuracy.\n",
    "\n",
    "    Parameters:\n",
    "    - history: Keras History object\n",
    "    - title: str, title of the plot\n",
    "    \"\"\"\n",
    "    plt.figure(figsize=(12, 6))\n",
    "\n",
    "    # Plot loss\n",
    "    plt.subplot(1, 2, 1)\n",
    "    plt.plot(history.history['loss'], label='Training Loss')\n",
    "    plt.plot(history.history['val_loss'], label='Validation Loss')\n",
    "    plt.title('Training and Validation Loss')\n",
    "    plt.xlabel('Epochs')\n",
    "    plt.ylabel('Loss')\n",
    "    plt.legend()\n",
    "\n",
    "    # Plot accuracy\n",
    "    plt.subplot(1, 2, 2)\n",
    "    plt.plot(history.history['accuracy'], label='Training Accuracy')\n",
    "    plt.plot(history.history['val_accuracy'], label='Validation Accuracy')\n",
    "    plt.title('Training and Validation Accuracy')\n",
    "    plt.xlabel('Epochs')\n",
    "    plt.ylabel('Accuracy')\n",
    "    plt.ylim(0, 1)  # Fix the accuracy scale from 0 to 1\n",
    "    plt.yticks([i/10.0 for i in range(11)])  # Set y-ticks to show labels at intervals of 0.1\n",
    "    plt.legend()\n",
    "\n",
    "    plt.suptitle(title)\n",
    "    plt.show()"
   ]
  },
  {
   "cell_type": "code",
   "execution_count": null,
   "metadata": {},
   "outputs": [
    {
     "data": {
      "image/png": "[encoded data removed]",
      "text/plain": [
       "<Figure size 1200x600 with 2 Axes>"
      ]
     },
     "metadata": {},
     "output_type": "display_data"
    }
   ],
   "source": [
    "# plot_model_performance(trained_vgg16_model, \"Training Performance for VGG16\")\n",
    "plot_model_performance(trained_vgg19_model, \"Training Performance for VGG19\")"
   ]
  }
 ],
 "metadata": {
  "kernelspec": {
   "display_name": "dependencies",
   "language": "python",
   "name": "python3"
  },
  "language_info": {
   "codemirror_mode": {
    "name": "ipython",
    "version": 3
   },
   "file_extension": ".py",
   "mimetype": "text/x-python",
   "name": "python",
   "nbconvert_exporter": "python",
   "pygments_lexer": "ipython3",
   "version": "3.9.0"
  }
 },
 "nbformat": 4,
 "nbformat_minor": 2
}
