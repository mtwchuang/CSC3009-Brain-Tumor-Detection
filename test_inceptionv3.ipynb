{
 "cells": [
  {
   "cell_type": "code",
   "execution_count": 1,
   "metadata": {},
   "outputs": [
    {
     "name": "stdout",
     "output_type": "stream",
     "text": [
      "Requirement already satisfied: tensorflow==2.10 in c:\\users\\cxuel\\appdata\\local\\programs\\python\\python310\\lib\\site-packages (2.10.0)\n",
      "Requirement already satisfied: opt-einsum>=2.3.2 in c:\\users\\cxuel\\appdata\\local\\programs\\python\\python310\\lib\\site-packages (from tensorflow==2.10) (3.3.0)\n",
      "Requirement already satisfied: termcolor>=1.1.0 in c:\\users\\cxuel\\appdata\\local\\programs\\python\\python310\\lib\\site-packages (from tensorflow==2.10) (2.4.0)\n",
      "Requirement already satisfied: setuptools in c:\\users\\cxuel\\appdata\\local\\programs\\python\\python310\\lib\\site-packages (from tensorflow==2.10) (65.5.0)\n",
      "Requirement already satisfied: google-pasta>=0.1.1 in c:\\users\\cxuel\\appdata\\local\\programs\\python\\python310\\lib\\site-packages (from tensorflow==2.10) (0.2.0)\n",
      "Requirement already satisfied: tensorboard<2.11,>=2.10 in c:\\users\\cxuel\\appdata\\local\\programs\\python\\python310\\lib\\site-packages (from tensorflow==2.10) (2.10.1)\n",
      "Requirement already satisfied: protobuf<3.20,>=3.9.2 in c:\\users\\cxuel\\appdata\\local\\programs\\python\\python310\\lib\\site-packages (from tensorflow==2.10) (3.19.6)\n",
      "Requirement already satisfied: grpcio<2.0,>=1.24.3 in c:\\users\\cxuel\\appdata\\local\\programs\\python\\python310\\lib\\site-packages (from tensorflow==2.10) (1.54.2)\n",
      "Requirement already satisfied: wrapt>=1.11.0 in c:\\users\\cxuel\\appdata\\local\\programs\\python\\python310\\lib\\site-packages (from tensorflow==2.10) (1.16.0)\n",
      "Requirement already satisfied: astunparse>=1.6.0 in c:\\users\\cxuel\\appdata\\local\\programs\\python\\python310\\lib\\site-packages (from tensorflow==2.10) (1.6.3)\n",
      "Requirement already satisfied: numpy>=1.20 in c:\\users\\cxuel\\appdata\\local\\programs\\python\\python310\\lib\\site-packages (from tensorflow==2.10) (1.22.3)\n",
      "Requirement already satisfied: six>=1.12.0 in c:\\users\\cxuel\\appdata\\roaming\\python\\python310\\site-packages (from tensorflow==2.10) (1.16.0)\n",
      "Requirement already satisfied: flatbuffers>=2.0 in c:\\users\\cxuel\\appdata\\local\\programs\\python\\python310\\lib\\site-packages (from tensorflow==2.10) (24.3.25)\n",
      "Requirement already satisfied: typing-extensions>=3.6.6 in c:\\users\\cxuel\\appdata\\local\\programs\\python\\python310\\lib\\site-packages (from tensorflow==2.10) (4.11.0)\n",
      "Requirement already satisfied: tensorflow-estimator<2.11,>=2.10.0 in c:\\users\\cxuel\\appdata\\local\\programs\\python\\python310\\lib\\site-packages (from tensorflow==2.10) (2.10.0)\n",
      "Requirement already satisfied: keras-preprocessing>=1.1.1 in c:\\users\\cxuel\\appdata\\local\\programs\\python\\python310\\lib\\site-packages (from tensorflow==2.10) (1.1.2)\n",
      "Requirement already satisfied: gast<=0.4.0,>=0.2.1 in c:\\users\\cxuel\\appdata\\local\\programs\\python\\python310\\lib\\site-packages (from tensorflow==2.10) (0.4.0)\n",
      "Requirement already satisfied: packaging in c:\\users\\cxuel\\appdata\\local\\programs\\python\\python310\\lib\\site-packages (from tensorflow==2.10) (21.3)\n",
      "Requirement already satisfied: h5py>=2.9.0 in c:\\users\\cxuel\\appdata\\local\\programs\\python\\python310\\lib\\site-packages (from tensorflow==2.10) (3.11.0)\n",
      "Requirement already satisfied: absl-py>=1.0.0 in c:\\users\\cxuel\\appdata\\local\\programs\\python\\python310\\lib\\site-packages (from tensorflow==2.10) (2.1.0)\n",
      "Requirement already satisfied: libclang>=13.0.0 in c:\\users\\cxuel\\appdata\\local\\programs\\python\\python310\\lib\\site-packages (from tensorflow==2.10) (18.1.1)\n",
      "Requirement already satisfied: tensorflow-io-gcs-filesystem>=0.23.1 in c:\\users\\cxuel\\appdata\\local\\programs\\python\\python310\\lib\\site-packages (from tensorflow==2.10) (0.31.0)\n",
      "Requirement already satisfied: keras<2.11,>=2.10.0 in c:\\users\\cxuel\\appdata\\local\\programs\\python\\python310\\lib\\site-packages (from tensorflow==2.10) (2.10.0)\n",
      "Requirement already satisfied: wheel<1.0,>=0.23.0 in c:\\users\\cxuel\\appdata\\local\\programs\\python\\python310\\lib\\site-packages (from astunparse>=1.6.0->tensorflow==2.10) (0.37.1)\n",
      "Requirement already satisfied: markdown>=2.6.8 in c:\\users\\cxuel\\appdata\\local\\programs\\python\\python310\\lib\\site-packages (from tensorboard<2.11,>=2.10->tensorflow==2.10) (3.6)\n",
      "Requirement already satisfied: google-auth-oauthlib<0.5,>=0.4.1 in c:\\users\\cxuel\\appdata\\local\\programs\\python\\python310\\lib\\site-packages (from tensorboard<2.11,>=2.10->tensorflow==2.10) (0.4.6)\n",
      "Requirement already satisfied: google-auth<3,>=1.6.3 in c:\\users\\cxuel\\appdata\\local\\programs\\python\\python310\\lib\\site-packages (from tensorboard<2.11,>=2.10->tensorflow==2.10) (2.16.2)\n",
      "Requirement already satisfied: werkzeug>=1.0.1 in c:\\users\\cxuel\\appdata\\local\\programs\\python\\python310\\lib\\site-packages (from tensorboard<2.11,>=2.10->tensorflow==2.10) (2.0.3)\n",
      "Requirement already satisfied: tensorboard-data-server<0.7.0,>=0.6.0 in c:\\users\\cxuel\\appdata\\local\\programs\\python\\python310\\lib\\site-packages (from tensorboard<2.11,>=2.10->tensorflow==2.10) (0.6.1)\n",
      "Requirement already satisfied: tensorboard-plugin-wit>=1.6.0 in c:\\users\\cxuel\\appdata\\local\\programs\\python\\python310\\lib\\site-packages (from tensorboard<2.11,>=2.10->tensorflow==2.10) (1.8.1)\n",
      "Requirement already satisfied: requests<3,>=2.21.0 in c:\\users\\cxuel\\appdata\\local\\programs\\python\\python310\\lib\\site-packages (from tensorboard<2.11,>=2.10->tensorflow==2.10) (2.27.1)\n",
      "Requirement already satisfied: pyparsing!=3.0.5,>=2.0.2 in c:\\users\\cxuel\\appdata\\local\\programs\\python\\python310\\lib\\site-packages (from packaging->tensorflow==2.10) (3.0.9)\n",
      "Requirement already satisfied: cachetools<6.0,>=2.0.0 in c:\\users\\cxuel\\appdata\\local\\programs\\python\\python310\\lib\\site-packages (from google-auth<3,>=1.6.3->tensorboard<2.11,>=2.10->tensorflow==2.10) (5.3.0)\n",
      "Requirement already satisfied: pyasn1-modules>=0.2.1 in c:\\users\\cxuel\\appdata\\local\\programs\\python\\python310\\lib\\site-packages (from google-auth<3,>=1.6.3->tensorboard<2.11,>=2.10->tensorflow==2.10) (0.2.8)\n",
      "Requirement already satisfied: rsa<5,>=3.1.4 in c:\\users\\cxuel\\appdata\\local\\programs\\python\\python310\\lib\\site-packages (from google-auth<3,>=1.6.3->tensorboard<2.11,>=2.10->tensorflow==2.10) (4.9)\n",
      "Requirement already satisfied: requests-oauthlib>=0.7.0 in c:\\users\\cxuel\\appdata\\local\\programs\\python\\python310\\lib\\site-packages (from google-auth-oauthlib<0.5,>=0.4.1->tensorboard<2.11,>=2.10->tensorflow==2.10) (2.0.0)\n",
      "Requirement already satisfied: charset-normalizer~=2.0.0 in c:\\users\\cxuel\\appdata\\local\\programs\\python\\python310\\lib\\site-packages (from requests<3,>=2.21.0->tensorboard<2.11,>=2.10->tensorflow==2.10) (2.0.12)\n",
      "Requirement already satisfied: urllib3<1.27,>=1.21.1 in c:\\users\\cxuel\\appdata\\local\\programs\\python\\python310\\lib\\site-packages (from requests<3,>=2.21.0->tensorboard<2.11,>=2.10->tensorflow==2.10) (1.26.8)\n",
      "Requirement already satisfied: certifi>=2017.4.17 in c:\\users\\cxuel\\appdata\\local\\programs\\python\\python310\\lib\\site-packages (from requests<3,>=2.21.0->tensorboard<2.11,>=2.10->tensorflow==2.10) (2021.10.8)\n",
      "Requirement already satisfied: idna<4,>=2.5 in c:\\users\\cxuel\\appdata\\local\\programs\\python\\python310\\lib\\site-packages (from requests<3,>=2.21.0->tensorboard<2.11,>=2.10->tensorflow==2.10) (3.3)\n",
      "Requirement already satisfied: pyasn1<0.5.0,>=0.4.6 in c:\\users\\cxuel\\appdata\\local\\programs\\python\\python310\\lib\\site-packages (from pyasn1-modules>=0.2.1->google-auth<3,>=1.6.3->tensorboard<2.11,>=2.10->tensorflow==2.10) (0.4.8)\n",
      "Requirement already satisfied: oauthlib>=3.0.0 in c:\\users\\cxuel\\appdata\\local\\programs\\python\\python310\\lib\\site-packages (from requests-oauthlib>=0.7.0->google-auth-oauthlib<0.5,>=0.4.1->tensorboard<2.11,>=2.10->tensorflow==2.10) (3.2.2)\n",
      "Note: you may need to restart the kernel to use updated packages.\n"
     ]
    },
    {
     "name": "stderr",
     "output_type": "stream",
     "text": [
      "WARNING: Ignoring invalid distribution -rpcio (c:\\users\\cxuel\\appdata\\local\\programs\\python\\python310\\lib\\site-packages)\n",
      "WARNING: Ignoring invalid distribution -rpcio (c:\\users\\cxuel\\appdata\\local\\programs\\python\\python310\\lib\\site-packages)\n",
      "WARNING: Ignoring invalid distribution -rpcio (c:\\users\\cxuel\\appdata\\local\\programs\\python\\python310\\lib\\site-packages)\n",
      "WARNING: Ignoring invalid distribution -rpcio (c:\\users\\cxuel\\appdata\\local\\programs\\python\\python310\\lib\\site-packages)\n",
      "WARNING: Ignoring invalid distribution -rpcio (c:\\users\\cxuel\\appdata\\local\\programs\\python\\python310\\lib\\site-packages)\n",
      "WARNING: Ignoring invalid distribution -rpcio (c:\\users\\cxuel\\appdata\\local\\programs\\python\\python310\\lib\\site-packages)\n",
      "\n",
      "[notice] A new release of pip is available: 23.0.1 -> 24.0\n",
      "[notice] To update, run: python.exe -m pip install --upgrade pip\n"
     ]
    },
    {
     "name": "stdout",
     "output_type": "stream",
     "text": [
      "Requirement already satisfied: scikit-learn in c:\\users\\cxuel\\appdata\\local\\programs\\python\\python310\\lib\\site-packages (1.2.2)\n",
      "Requirement already satisfied: numpy>=1.17.3 in c:\\users\\cxuel\\appdata\\local\\programs\\python\\python310\\lib\\site-packages (from scikit-learn) (1.22.3)\n",
      "Requirement already satisfied: joblib>=1.1.1 in c:\\users\\cxuel\\appdata\\local\\programs\\python\\python310\\lib\\site-packages (from scikit-learn) (1.2.0)\n",
      "Requirement already satisfied: scipy>=1.3.2 in c:\\users\\cxuel\\appdata\\local\\programs\\python\\python310\\lib\\site-packages (from scikit-learn) (1.9.1)\n",
      "Requirement already satisfied: threadpoolctl>=2.0.0 in c:\\users\\cxuel\\appdata\\local\\programs\\python\\python310\\lib\\site-packages (from scikit-learn) (3.1.0)\n",
      "Note: you may need to restart the kernel to use updated packages.\n"
     ]
    },
    {
     "name": "stderr",
     "output_type": "stream",
     "text": [
      "WARNING: Ignoring invalid distribution -rpcio (c:\\users\\cxuel\\appdata\\local\\programs\\python\\python310\\lib\\site-packages)\n",
      "WARNING: Ignoring invalid distribution -rpcio (c:\\users\\cxuel\\appdata\\local\\programs\\python\\python310\\lib\\site-packages)\n",
      "WARNING: Ignoring invalid distribution -rpcio (c:\\users\\cxuel\\appdata\\local\\programs\\python\\python310\\lib\\site-packages)\n",
      "WARNING: Ignoring invalid distribution -rpcio (c:\\users\\cxuel\\appdata\\local\\programs\\python\\python310\\lib\\site-packages)\n",
      "WARNING: Ignoring invalid distribution -rpcio (c:\\users\\cxuel\\appdata\\local\\programs\\python\\python310\\lib\\site-packages)\n",
      "WARNING: Ignoring invalid distribution -rpcio (c:\\users\\cxuel\\appdata\\local\\programs\\python\\python310\\lib\\site-packages)\n",
      "\n",
      "[notice] A new release of pip is available: 23.0.1 -> 24.0\n",
      "[notice] To update, run: python.exe -m pip install --upgrade pip\n",
      "WARNING: Ignoring invalid distribution -rpcio (c:\\users\\cxuel\\appdata\\local\\programs\\python\\python310\\lib\\site-packages)\n",
      "WARNING: Ignoring invalid distribution -rpcio (c:\\users\\cxuel\\appdata\\local\\programs\\python\\python310\\lib\\site-packages)\n",
      "WARNING: Ignoring invalid distribution -rpcio (c:\\users\\cxuel\\appdata\\local\\programs\\python\\python310\\lib\\site-packages)\n",
      "WARNING: Ignoring invalid distribution -rpcio (c:\\users\\cxuel\\appdata\\local\\programs\\python\\python310\\lib\\site-packages)\n",
      "WARNING: Ignoring invalid distribution -rpcio (c:\\users\\cxuel\\appdata\\local\\programs\\python\\python310\\lib\\site-packages)\n",
      "WARNING: Ignoring invalid distribution -rpcio (c:\\users\\cxuel\\appdata\\local\\programs\\python\\python310\\lib\\site-packages)\n",
      "\n",
      "[notice] A new release of pip is available: 23.0.1 -> 24.0\n",
      "[notice] To update, run: python.exe -m pip install --upgrade pip\n"
     ]
    },
    {
     "name": "stdout",
     "output_type": "stream",
     "text": [
      "Requirement already satisfied: matplotlib in c:\\users\\cxuel\\appdata\\local\\programs\\python\\python310\\lib\\site-packages (3.7.1)\n",
      "Requirement already satisfied: pillow>=6.2.0 in c:\\users\\cxuel\\appdata\\local\\programs\\python\\python310\\lib\\site-packages (from matplotlib) (10.2.0)\n",
      "Requirement already satisfied: numpy>=1.20 in c:\\users\\cxuel\\appdata\\local\\programs\\python\\python310\\lib\\site-packages (from matplotlib) (1.22.3)\n",
      "Requirement already satisfied: pyparsing>=2.3.1 in c:\\users\\cxuel\\appdata\\local\\programs\\python\\python310\\lib\\site-packages (from matplotlib) (3.0.9)\n",
      "Requirement already satisfied: contourpy>=1.0.1 in c:\\users\\cxuel\\appdata\\local\\programs\\python\\python310\\lib\\site-packages (from matplotlib) (1.0.7)\n",
      "Requirement already satisfied: kiwisolver>=1.0.1 in c:\\users\\cxuel\\appdata\\local\\programs\\python\\python310\\lib\\site-packages (from matplotlib) (1.4.4)\n",
      "Requirement already satisfied: cycler>=0.10 in c:\\users\\cxuel\\appdata\\local\\programs\\python\\python310\\lib\\site-packages (from matplotlib) (0.11.0)\n",
      "Requirement already satisfied: packaging>=20.0 in c:\\users\\cxuel\\appdata\\local\\programs\\python\\python310\\lib\\site-packages (from matplotlib) (21.3)\n",
      "Requirement already satisfied: python-dateutil>=2.7 in c:\\users\\cxuel\\appdata\\roaming\\python\\python310\\site-packages (from matplotlib) (2.8.2)\n",
      "Requirement already satisfied: fonttools>=4.22.0 in c:\\users\\cxuel\\appdata\\local\\programs\\python\\python310\\lib\\site-packages (from matplotlib) (4.39.4)\n",
      "Requirement already satisfied: six>=1.5 in c:\\users\\cxuel\\appdata\\roaming\\python\\python310\\site-packages (from python-dateutil>=2.7->matplotlib) (1.16.0)\n",
      "Note: you may need to restart the kernel to use updated packages.\n",
      "^C\n",
      "Note: you may need to restart the kernel to use updated packages.\n"
     ]
    },
    {
     "name": "stdout",
     "output_type": "stream",
     "text": [
      "Requirement already satisfied: keras_tuner in c:\\users\\cxuel\\appdata\\local\\programs\\python\\python310\\lib\\site-packages (1.4.7)\n",
      "Requirement already satisfied: kt-legacy in c:\\users\\cxuel\\appdata\\local\\programs\\python\\python310\\lib\\site-packages (from keras_tuner) (1.0.5)\n",
      "Requirement already satisfied: requests in c:\\users\\cxuel\\appdata\\local\\programs\\python\\python310\\lib\\site-packages (from keras_tuner) (2.27.1)\n",
      "Requirement already satisfied: packaging in c:\\users\\cxuel\\appdata\\local\\programs\\python\\python310\\lib\\site-packages (from keras_tuner) (21.3)\n",
      "Requirement already satisfied: keras in c:\\users\\cxuel\\appdata\\local\\programs\\python\\python310\\lib\\site-packages (from keras_tuner) (2.10.0)\n",
      "Requirement already satisfied: pyparsing!=3.0.5,>=2.0.2 in c:\\users\\cxuel\\appdata\\local\\programs\\python\\python310\\lib\\site-packages (from packaging->keras_tuner) (3.0.9)\n",
      "Requirement already satisfied: charset-normalizer~=2.0.0 in c:\\users\\cxuel\\appdata\\local\\programs\\python\\python310\\lib\\site-packages (from requests->keras_tuner) (2.0.12)\n",
      "Requirement already satisfied: urllib3<1.27,>=1.21.1 in c:\\users\\cxuel\\appdata\\local\\programs\\python\\python310\\lib\\site-packages (from requests->keras_tuner) (1.26.8)\n",
      "Requirement already satisfied: idna<4,>=2.5 in c:\\users\\cxuel\\appdata\\local\\programs\\python\\python310\\lib\\site-packages (from requests->keras_tuner) (3.3)\n",
      "Requirement already satisfied: certifi>=2017.4.17 in c:\\users\\cxuel\\appdata\\local\\programs\\python\\python310\\lib\\site-packages (from requests->keras_tuner) (2021.10.8)\n"
     ]
    },
    {
     "name": "stderr",
     "output_type": "stream",
     "text": [
      "WARNING: Ignoring invalid distribution -rpcio (c:\\users\\cxuel\\appdata\\local\\programs\\python\\python310\\lib\\site-packages)\n",
      "WARNING: Ignoring invalid distribution -rpcio (c:\\users\\cxuel\\appdata\\local\\programs\\python\\python310\\lib\\site-packages)\n",
      "WARNING: Ignoring invalid distribution -rpcio (c:\\users\\cxuel\\appdata\\local\\programs\\python\\python310\\lib\\site-packages)\n",
      "WARNING: Ignoring invalid distribution -rpcio (c:\\users\\cxuel\\appdata\\local\\programs\\python\\python310\\lib\\site-packages)\n",
      "WARNING: Ignoring invalid distribution -rpcio (c:\\users\\cxuel\\appdata\\local\\programs\\python\\python310\\lib\\site-packages)\n",
      "WARNING: Ignoring invalid distribution -rpcio (c:\\users\\cxuel\\appdata\\local\\programs\\python\\python310\\lib\\site-packages)\n",
      "\n",
      "[notice] A new release of pip is available: 23.0.1 -> 24.0\n",
      "[notice] To update, run: python.exe -m pip install --upgrade pip\n"
     ]
    }
   ],
   "source": [
    "%pip install tensorflow==2.10\n",
    "%pip install scikit-learn\n",
    "%pip install matplotlib\n",
    "%matplotlib inline\n",
    "%pip install keras_tuner"
   ]
  },
  {
   "cell_type": "markdown",
   "metadata": {},
   "source": [
    "### Import Libraries"
   ]
  },
  {
   "cell_type": "code",
   "execution_count": 2,
   "metadata": {},
   "outputs": [],
   "source": [
    "import os\n",
    "import cv2\n",
    "import glob\n",
    "import pandas as pd\n",
    "import numpy as np\n",
    "import tensorflow as tf\n",
    "import matplotlib.pyplot as plt\n",
    "from keras.layers import Dense\n",
    "from keras.models import Sequential\n",
    "from keras.preprocessing import image\n",
    "from tensorflow.keras.optimizers import Adam\n",
    "from tensorflow.keras.models import Model\n",
    "from keras.callbacks import ReduceLROnPlateau\n",
    "from tensorflow.keras.applications.vgg16 import VGG16\n",
    "from tensorflow.keras.applications.vgg19 import VGG19\n",
    "from keras.preprocessing.image import ImageDataGenerator\n",
    "from tensorflow.keras.applications.inception_v3 import InceptionV3\n",
    "from tensorflow.keras.applications.inception_v3 import preprocess_input\n",
    "from keras.layers import Convolution2D,Dense,MaxPool2D,Activation,Dropout,Flatten\n",
    "from keras.layers import Input, Add, Dense, Activation, ZeroPadding2D, BatchNormalization, Flatten, Conv2D, AveragePooling2D, MaxPooling2D, GlobalMaxPooling2D"
   ]
  },
  {
   "cell_type": "markdown",
   "metadata": {},
   "source": [
    "### GPU Acceleration Check"
   ]
  },
  {
   "cell_type": "code",
   "execution_count": null,
   "metadata": {},
   "outputs": [
    {
     "name": "stdout",
     "output_type": "stream",
     "text": [
      "TensorFlow version: 2.10.0\n",
      "Num GPUs Available:  0\n",
      "Physical Devices: [PhysicalDevice(name='/physical_device:CPU:0', device_type='CPU')]\n"
     ]
    }
   ],
   "source": [
    "print(\"TensorFlow version:\", tf.__version__)\n",
    "print(\"Num GPUs Available: \", len(tf.config.list_physical_devices('GPU')))\n",
    "physical_devices = tf.config.list_physical_devices()\n",
    "print(\"Physical Devices:\", physical_devices)"
   ]
  },
  {
   "cell_type": "markdown",
   "metadata": {},
   "source": [
    "### Load and Split Prepared Dara"
   ]
  },
  {
   "cell_type": "code",
   "execution_count": null,
   "metadata": {},
   "outputs": [],
   "source": [
    "# Load the data\n",
    "x_input = np.load('prepared_data/x_input_combined.npy')\n",
    "y_output = np.load('prepared_data/y_output_combined.npy')\n",
    "\n",
    "# Ensure y is one-hot encoded\n",
    "y_output = to_categorical(y_output, num_classes=4)\n",
    "\n",
    "# Resizes images to 299 x 299 for optimal size for InceptionV3\n",
    "x_input_resized = np.array([tf.image.resize(image, (299, 299)).numpy() for image in x_input])"
   ]
  },
  {
   "cell_type": "markdown",
   "metadata": {},
   "source": [
    "Split dataset into training and testing with a 80/20 ratio"
   ]
  },
  {
   "cell_type": "code",
   "execution_count": null,
   "metadata": {},
   "outputs": [
    {
     "name": "stdout",
     "output_type": "stream",
     "text": [
      "X Training Data\n",
      "Number of Rows: 1536\n",
      "Pixel Dimensions: 299x299x3\n",
      "\n",
      "Y Training Data\n",
      "Number of Rows: 1536\n",
      "Number of Classes: 4\n",
      "\n",
      "X Testing Data\n",
      "Number of Rows: 384\n",
      "Pixel Dimensions: 299x299x3\n",
      "\n",
      "Y Testing Data\n",
      "Number of Rows: 384\n",
      "Number of Classes: 4\n"
     ]
    }
   ],
   "source": [
    "# Split the data into training and testing sets\n",
    "x_input_train, x_input_test, y_output_train, y_output_test = train_test_split(x_input_resized, y_output, test_size=0.2, random_state=42)\n",
    "\n",
    "# Printing Dimensions of data\n",
    "print(f'X Training Data\\nNumber of Rows: {x_input_train.shape[0]}\\nPixel Dimensions: {x_input_train.shape[1]}x{x_input_train.shape[2]}x{x_input_train.shape[3]}\\n')\n",
    "print(f'Y Training Data\\nNumber of Rows: {y_output_train.shape[0]}\\nNumber of Classes: {y_output_train.shape[1]}\\n')\n",
    "print(f'X Testing Data\\nNumber of Rows: {x_input_test.shape[0]}\\nPixel Dimensions: {x_input_test.shape[1]}x{x_input_test.shape[2]}x{x_input_test.shape[3]}\\n')\n",
    "print(f'Y Testing Data\\nNumber of Rows: {y_output_test.shape[0]}\\nNumber of Classes: {y_output_test.shape[1]}')"
   ]
  },
  {
   "cell_type": "markdown",
   "metadata": {},
   "source": [
    "### Load InceptionV3 Model"
   ]
  },
  {
   "cell_type": "code",
   "execution_count": null,
   "metadata": {},
   "outputs": [
    {
     "ename": "NameError",
     "evalue": "name 'InceptionV3' is not defined",
     "output_type": "error",
     "traceback": [
      "\u001b[1;31m---------------------------------------------------------------------------\u001b[0m",
      "\u001b[1;31mNameError\u001b[0m                                 Traceback (most recent call last)",
      "\u001b[1;32m~\\AppData\\Local\\Temp/ipykernel_18644/3781481385.py\u001b[0m in \u001b[0;36m<module>\u001b[1;34m\u001b[0m\n\u001b[0;32m      2\u001b[0m \u001b[1;33m\u001b[0m\u001b[0m\n\u001b[0;32m      3\u001b[0m \u001b[1;31m# Load the InceptionV3 model with weights pre-trained on ImageNet\u001b[0m\u001b[1;33m\u001b[0m\u001b[1;33m\u001b[0m\u001b[0m\n\u001b[1;32m----> 4\u001b[1;33m \u001b[0minception\u001b[0m \u001b[1;33m=\u001b[0m \u001b[0mInceptionV3\u001b[0m\u001b[1;33m(\u001b[0m\u001b[0minput_shape\u001b[0m\u001b[1;33m=\u001b[0m\u001b[0mIMAGE_SIZE\u001b[0m \u001b[1;33m+\u001b[0m \u001b[1;33m[\u001b[0m\u001b[1;36m3\u001b[0m\u001b[1;33m]\u001b[0m\u001b[1;33m,\u001b[0m \u001b[0mweights\u001b[0m\u001b[1;33m=\u001b[0m\u001b[1;34m'imagenet'\u001b[0m\u001b[1;33m,\u001b[0m \u001b[0minclude_top\u001b[0m\u001b[1;33m=\u001b[0m\u001b[1;32mFalse\u001b[0m\u001b[1;33m)\u001b[0m\u001b[1;33m\u001b[0m\u001b[1;33m\u001b[0m\u001b[0m\n\u001b[0m\u001b[0;32m      5\u001b[0m \u001b[1;33m\u001b[0m\u001b[0m\n\u001b[0;32m      6\u001b[0m \u001b[1;31m# Freeze the existing weights\u001b[0m\u001b[1;33m\u001b[0m\u001b[1;33m\u001b[0m\u001b[0m\n",
      "\u001b[1;31mNameError\u001b[0m: name 'InceptionV3' is not defined"
     ]
    }
   ],
   "source": [
    "IMAGE_SIZE = [299, 299]\n",
    "\n",
    "# Load the InceptionV3 model with weights pre-trained on ImageNet\n",
    "inception = InceptionV3(input_shape=IMAGE_SIZE + [3], weights='imagenet', include_top=False)\n",
    "\n",
    "# Freeze the existing weights\n",
    "for layer in inception.layers:\n",
    "    layer.trainable = False\n",
    "\n",
    "# Add your own classification head to the model\n",
    "x = GlobalAveragePooling2D()(inception.output)\n",
    "x = Dense(256, activation='relu')(x)\n",
    "output = Dense(4, activation='softmax')(x)\n",
    "\n",
    "# Create a new model with the InceptionV3 base and your classification head\n",
    "model = Model(inputs=inception.input, outputs=output)\n",
    "\n",
    "# Compile the model\n",
    "model.compile(optimizer='adam', loss='categorical_crossentropy', metrics=['accuracy'])\n",
    "\n",
    "# Display the summary of the model\n",
    "model.summary()\n"
   ]
  },
  {
   "cell_type": "markdown",
   "metadata": {},
   "source": [
    "### Train Model"
   ]
  },
  {
   "cell_type": "code",
   "execution_count": null,
   "metadata": {},
   "outputs": [
    {
     "name": "stdout",
     "output_type": "stream",
     "text": [
      "Epoch 1/30\n"
     ]
    },
    {
     "name": "stdout",
     "output_type": "stream",
     "text": [
      "48/48 [==============================] - 86s 2s/step - loss: 0.4226 - accuracy: 0.8509 - val_loss: 0.4597 - val_accuracy: 0.8333 - lr: 0.0010\n",
      "Epoch 2/30\n",
      "48/48 [==============================] - 97s 2s/step - loss: 0.3266 - accuracy: 0.8880 - val_loss: 0.4386 - val_accuracy: 0.8438 - lr: 0.0010\n",
      "Epoch 3/30\n",
      "48/48 [==============================] - 96s 2s/step - loss: 0.2376 - accuracy: 0.9219 - val_loss: 0.3522 - val_accuracy: 0.8672 - lr: 0.0010\n",
      "Epoch 4/30\n",
      "48/48 [==============================] - 90s 2s/step - loss: 0.1875 - accuracy: 0.9440 - val_loss: 0.4185 - val_accuracy: 0.8516 - lr: 0.0010\n",
      "Epoch 5/30\n",
      "48/48 [==============================] - 88s 2s/step - loss: 0.1626 - accuracy: 0.9492 - val_loss: 0.3077 - val_accuracy: 0.9089 - lr: 0.0010\n",
      "Epoch 6/30\n",
      "48/48 [==============================] - 88s 2s/step - loss: 0.1283 - accuracy: 0.9688 - val_loss: 0.3828 - val_accuracy: 0.8594 - lr: 0.0010\n",
      "Epoch 7/30\n",
      "48/48 [==============================] - 88s 2s/step - loss: 0.1005 - accuracy: 0.9733 - val_loss: 0.2901 - val_accuracy: 0.9167 - lr: 0.0010\n",
      "Epoch 8/30\n",
      "48/48 [==============================] - 88s 2s/step - loss: 0.0804 - accuracy: 0.9863 - val_loss: 0.2438 - val_accuracy: 0.9219 - lr: 0.0010\n",
      "Epoch 9/30\n",
      "48/48 [==============================] - 88s 2s/step - loss: 0.0830 - accuracy: 0.9785 - val_loss: 0.2603 - val_accuracy: 0.9245 - lr: 0.0010\n",
      "Epoch 10/30\n",
      "48/48 [==============================] - 93s 2s/step - loss: 0.0660 - accuracy: 0.9818 - val_loss: 0.2602 - val_accuracy: 0.9193 - lr: 0.0010\n",
      "Epoch 11/30\n",
      "48/48 [==============================] - 94s 2s/step - loss: 0.0466 - accuracy: 0.9928 - val_loss: 0.2822 - val_accuracy: 0.9089 - lr: 0.0010\n",
      "Epoch 12/30\n",
      "48/48 [==============================] - 94s 2s/step - loss: 0.0358 - accuracy: 0.9954 - val_loss: 0.2394 - val_accuracy: 0.9323 - lr: 0.0010\n",
      "Epoch 13/30\n",
      "48/48 [==============================] - 94s 2s/step - loss: 0.0324 - accuracy: 0.9961 - val_loss: 0.2617 - val_accuracy: 0.9323 - lr: 0.0010\n",
      "Epoch 14/30\n",
      "48/48 [==============================] - 94s 2s/step - loss: 0.0310 - accuracy: 0.9974 - val_loss: 0.2622 - val_accuracy: 0.9245 - lr: 0.0010\n",
      "Epoch 15/30\n",
      "48/48 [==============================] - 93s 2s/step - loss: 0.0189 - accuracy: 1.0000 - val_loss: 0.2506 - val_accuracy: 0.9401 - lr: 0.0010\n",
      "Epoch 16/30\n",
      "48/48 [==============================] - 733s 16s/step - loss: 0.0172 - accuracy: 1.0000 - val_loss: 0.2602 - val_accuracy: 0.9193 - lr: 0.0010\n",
      "Epoch 17/30\n",
      "48/48 [==============================] - 90s 2s/step - loss: 0.0172 - accuracy: 0.9993 - val_loss: 0.2599 - val_accuracy: 0.9323 - lr: 0.0010\n",
      "Epoch 18/30\n",
      "48/48 [==============================] - 83s 2s/step - loss: 0.0128 - accuracy: 1.0000 - val_loss: 0.2708 - val_accuracy: 0.9323 - lr: 0.0010\n",
      "Epoch 19/30\n",
      "48/48 [==============================] - 89s 2s/step - loss: 0.0112 - accuracy: 1.0000 - val_loss: 0.2806 - val_accuracy: 0.9245 - lr: 0.0010\n",
      "Epoch 20/30\n",
      "48/48 [==============================] - 93s 2s/step - loss: 0.0105 - accuracy: 1.0000 - val_loss: 0.2658 - val_accuracy: 0.9349 - lr: 0.0010\n",
      "Epoch 21/30\n",
      "48/48 [==============================] - 93s 2s/step - loss: 0.0093 - accuracy: 1.0000 - val_loss: 0.2574 - val_accuracy: 0.9297 - lr: 0.0010\n",
      "Epoch 22/30\n",
      "48/48 [==============================] - 94s 2s/step - loss: 0.0081 - accuracy: 1.0000 - val_loss: 0.2482 - val_accuracy: 0.9453 - lr: 0.0010\n",
      "Epoch 23/30\n",
      "48/48 [==============================] - 96s 2s/step - loss: 0.0066 - accuracy: 1.0000 - val_loss: 0.2628 - val_accuracy: 0.9349 - lr: 0.0010\n",
      "Epoch 24/30\n",
      "48/48 [==============================] - 94s 2s/step - loss: 0.0060 - accuracy: 1.0000 - val_loss: 0.2584 - val_accuracy: 0.9297 - lr: 0.0010\n",
      "Epoch 25/30\n",
      "48/48 [==============================] - 94s 2s/step - loss: 0.0058 - accuracy: 1.0000 - val_loss: 0.2597 - val_accuracy: 0.9323 - lr: 0.0010\n",
      "Epoch 26/30\n",
      "48/48 [==============================] - 95s 2s/step - loss: 0.0050 - accuracy: 1.0000 - val_loss: 0.2741 - val_accuracy: 0.9349 - lr: 0.0010\n",
      "Epoch 27/30\n",
      "48/48 [==============================] - 94s 2s/step - loss: 0.0049 - accuracy: 1.0000 - val_loss: 0.2690 - val_accuracy: 0.9323 - lr: 0.0010\n",
      "Epoch 28/30\n",
      "48/48 [==============================] - 93s 2s/step - loss: 0.0042 - accuracy: 1.0000 - val_loss: 0.2658 - val_accuracy: 0.9297 - lr: 0.0010\n",
      "Epoch 29/30\n",
      "48/48 [==============================] - 93s 2s/step - loss: 0.0040 - accuracy: 1.0000 - val_loss: 0.2708 - val_accuracy: 0.9271 - lr: 0.0010\n",
      "Epoch 30/30\n",
      "48/48 [==============================] - 93s 2s/step - loss: 0.0036 - accuracy: 1.0000 - val_loss: 0.2766 - val_accuracy: 0.9297 - lr: 0.0010\n"
     ]
    }
   ],
   "source": [
    "history = model.fit(\n",
    "    x_input_train, y_output_train,\n",
    "    steps_per_epoch=None,\n",
    "    epochs=30,\n",
    "    validation_data=(x_input_test, y_output_test),\n",
    "    validation_steps=None,\n",
    "    verbose=1,\n",
    "    callbacks=[ReduceLROnPlateau(monitor='val_loss', factor=0.3, patience=3, min_lr=0.001)],\n",
    "    use_multiprocessing=False,\n",
    "    shuffle=True\n",
    ")\n"
   ]
  },
  {
   "cell_type": "markdown",
   "metadata": {},
   "source": [
    "## Evaluate Model"
   ]
  },
  {
   "cell_type": "code",
   "execution_count": null,
   "metadata": {},
   "outputs": [
    {
     "ename": "NameError",
     "evalue": "name 'model' is not defined",
     "output_type": "error",
     "traceback": [
      "\u001b[1;31m---------------------------------------------------------------------------\u001b[0m",
      "\u001b[1;31mNameError\u001b[0m                                 Traceback (most recent call last)",
      "\u001b[1;32m~\\AppData\\Local\\Temp/ipykernel_18644/1961968531.py\u001b[0m in \u001b[0;36m<module>\u001b[1;34m\u001b[0m\n\u001b[0;32m      1\u001b[0m \u001b[1;31m# Evaluate the model on training data\u001b[0m\u001b[1;33m\u001b[0m\u001b[1;33m\u001b[0m\u001b[0m\n\u001b[1;32m----> 2\u001b[1;33m \u001b[0mresult_train\u001b[0m \u001b[1;33m=\u001b[0m \u001b[0mmodel\u001b[0m\u001b[1;33m.\u001b[0m\u001b[0mevaluate\u001b[0m\u001b[1;33m(\u001b[0m\u001b[0mx_input_train\u001b[0m\u001b[1;33m,\u001b[0m \u001b[0my_output_train\u001b[0m\u001b[1;33m)\u001b[0m\u001b[1;33m\u001b[0m\u001b[1;33m\u001b[0m\u001b[0m\n\u001b[0m\u001b[0;32m      3\u001b[0m \u001b[0mprint\u001b[0m\u001b[1;33m(\u001b[0m\u001b[0mdict\u001b[0m\u001b[1;33m(\u001b[0m\u001b[0mzip\u001b[0m\u001b[1;33m(\u001b[0m\u001b[0mmodel\u001b[0m\u001b[1;33m.\u001b[0m\u001b[0mmetrics_names\u001b[0m\u001b[1;33m,\u001b[0m \u001b[0mresult_train\u001b[0m\u001b[1;33m)\u001b[0m\u001b[1;33m)\u001b[0m\u001b[1;33m)\u001b[0m\u001b[1;33m\u001b[0m\u001b[1;33m\u001b[0m\u001b[0m\n\u001b[0;32m      4\u001b[0m \u001b[1;33m\u001b[0m\u001b[0m\n\u001b[0;32m      5\u001b[0m \u001b[1;31m# Evaluate the model on testing data\u001b[0m\u001b[1;33m\u001b[0m\u001b[1;33m\u001b[0m\u001b[0m\n",
      "\u001b[1;31mNameError\u001b[0m: name 'model' is not defined"
     ]
    }
   ],
   "source": [
    "# Evaluate the model on training data\n",
    "result_train = model.evaluate(x_input_train, y_output_train)\n",
    "print(dict(zip(model.metrics_names, result_train)))\n",
    "\n",
    "# Evaluate the model on testing data\n",
    "result_test = model.evaluate(x_input_test, y_output_test)\n",
    "print(dict(zip(model.metrics_names, result_test)))\n"
   ]
  },
  {
   "cell_type": "markdown",
   "metadata": {},
   "source": [
    "## Plot training and accuracy graphs"
   ]
  },
  {
   "cell_type": "code",
   "execution_count": 3,
   "metadata": {},
   "outputs": [
    {
     "ename": "NameError",
     "evalue": "name 'history' is not defined",
     "output_type": "error",
     "traceback": [
      "\u001b[1;31m---------------------------------------------------------------------------\u001b[0m",
      "\u001b[1;31mNameError\u001b[0m                                 Traceback (most recent call last)",
      "Input \u001b[1;32mIn [3]\u001b[0m, in \u001b[0;36m<module>\u001b[1;34m\u001b[0m\n\u001b[1;32m----> 1\u001b[0m plt\u001b[38;5;241m.\u001b[39mplot(\u001b[43mhistory\u001b[49m\u001b[38;5;241m.\u001b[39mhistory[\u001b[38;5;124m'\u001b[39m\u001b[38;5;124maccuracy\u001b[39m\u001b[38;5;124m'\u001b[39m], label\u001b[38;5;241m=\u001b[39m\u001b[38;5;124m'\u001b[39m\u001b[38;5;124mTraining Accuracy\u001b[39m\u001b[38;5;124m'\u001b[39m)\n\u001b[0;32m      2\u001b[0m plt\u001b[38;5;241m.\u001b[39mplot(history\u001b[38;5;241m.\u001b[39mhistory[\u001b[38;5;124m'\u001b[39m\u001b[38;5;124mval_accuracy\u001b[39m\u001b[38;5;124m'\u001b[39m], label\u001b[38;5;241m=\u001b[39m\u001b[38;5;124m'\u001b[39m\u001b[38;5;124mValidation Accuracy\u001b[39m\u001b[38;5;124m'\u001b[39m)\n\u001b[0;32m      3\u001b[0m plt\u001b[38;5;241m.\u001b[39mtitle(\u001b[38;5;124m'\u001b[39m\u001b[38;5;124mAccuracy vs Epoch\u001b[39m\u001b[38;5;124m'\u001b[39m)\n",
      "\u001b[1;31mNameError\u001b[0m: name 'history' is not defined"
     ]
    }
   ],
   "source": [
    "plt.plot(history.history['accuracy'], label='Training Accuracy')\n",
    "plt.plot(history.history['val_accuracy'], label='Validation Accuracy')\n",
    "plt.title('Accuracy vs Epoch')\n",
    "plt.xlabel('Epoch')\n",
    "plt.ylabel('Accuracy')\n",
    "plt.legend()\n",
    "plt.show()\n",
    "\n",
    "plt.plot(history.history['loss'], label='Training loss')\n",
    "plt.plot(history.history['val_loss'], label='Validation loss')\n",
    "plt.title('Loss vs Epoch')\n",
    "plt.xlabel('Epoch')\n",
    "plt.ylabel('Loss')\n",
    "plt.legend()\n",
    "plt.show()"
   ]
  },
  {
   "cell_type": "markdown",
   "metadata": {},
   "source": [
    "## Confusion Matrix"
   ]
  },
  {
   "cell_type": "code",
   "execution_count": null,
   "metadata": {},
   "outputs": [],
   "source": [
    "predictions = model.predict(x_input_test)\n",
    "predicted_labels = np.argmax(predictions, axis=1)\n",
    "true_labels = np.argmax(y_output_test, axis=1)\n",
    "conf_matrix = confusion_matrix(true_labels, predicted_labels)\n",
    "\n",
    "class_names = ['Class 1', 'Class 2', 'Class 3', 'Class 4']  # replace with your class names\n",
    "plt.figure(figsize=(8, 6))\n",
    "sns.heatmap(conf_matrix, annot=True, fmt='d', cmap='Blues', xticklabels=class_names, yticklabels=class_names)\n",
    "plt.title('Confusion Matrix')\n",
    "plt.xlabel('Predicted')\n",
    "plt.ylabel('True')\n",
    "plt.show()\n"
   ]
  },
  {
   "cell_type": "markdown",
   "metadata": {},
   "source": [
    "## Classification Report"
   ]
  },
  {
   "cell_type": "code",
   "execution_count": null,
   "metadata": {},
   "outputs": [],
   "source": [
    "report = classification_report(true_labels, predicted_labels, target_names=class_names)\n",
    "print(\"Classification Report:\")\n",
    "print(report)\n"
   ]
  }
 ],
 "metadata": {
  "kernelspec": {
   "display_name": "Python 3",
   "language": "python",
   "name": "python3"
  },
  "language_info": {
   "codemirror_mode": {
    "name": "ipython",
    "version": 3
   },
   "file_extension": ".py",
   "mimetype": "text/x-python",
   "name": "python",
   "nbconvert_exporter": "python",
   "pygments_lexer": "ipython3",
   "version": "3.10.11"
  }
 },
 "nbformat": 4,
 "nbformat_minor": 2
}
