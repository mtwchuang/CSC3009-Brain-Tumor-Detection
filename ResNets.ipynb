{
 "cells": [
  {
   "cell_type": "markdown",
   "metadata": {},
   "source": [
    "## Residual Networks Models\n",
    "### Installation and Import Checks"
   ]
  },
  {
   "cell_type": "code",
   "execution_count": 1,
   "metadata": {},
   "outputs": [
    {
     "name": "stdout",
     "output_type": "stream",
     "text": [
      "Requirement already satisfied: tensorflow==2.10 in c:\\users\\matthew chuang\\documents\\github\\csc3009-brain-tumor-detection\\dependencies\\lib\\site-packages (2.10.0)\n",
      "Requirement already satisfied: absl-py>=1.0.0 in c:\\users\\matthew chuang\\documents\\github\\csc3009-brain-tumor-detection\\dependencies\\lib\\site-packages (from tensorflow==2.10) (2.1.0)\n",
      "Requirement already satisfied: astunparse>=1.6.0 in c:\\users\\matthew chuang\\documents\\github\\csc3009-brain-tumor-detection\\dependencies\\lib\\site-packages (from tensorflow==2.10) (1.6.3)\n",
      "Requirement already satisfied: flatbuffers>=2.0 in c:\\users\\matthew chuang\\documents\\github\\csc3009-brain-tumor-detection\\dependencies\\lib\\site-packages (from tensorflow==2.10) (24.3.25)\n",
      "Requirement already satisfied: gast<=0.4.0,>=0.2.1 in c:\\users\\matthew chuang\\documents\\github\\csc3009-brain-tumor-detection\\dependencies\\lib\\site-packages (from tensorflow==2.10) (0.4.0)\n",
      "Requirement already satisfied: google-pasta>=0.1.1 in c:\\users\\matthew chuang\\documents\\github\\csc3009-brain-tumor-detection\\dependencies\\lib\\site-packages (from tensorflow==2.10) (0.2.0)\n",
      "Requirement already satisfied: h5py>=2.9.0 in c:\\users\\matthew chuang\\documents\\github\\csc3009-brain-tumor-detection\\dependencies\\lib\\site-packages (from tensorflow==2.10) (3.11.0)\n",
      "Requirement already satisfied: keras-preprocessing>=1.1.1 in c:\\users\\matthew chuang\\documents\\github\\csc3009-brain-tumor-detection\\dependencies\\lib\\site-packages (from tensorflow==2.10) (1.1.2)\n",
      "Requirement already satisfied: libclang>=13.0.0 in c:\\users\\matthew chuang\\documents\\github\\csc3009-brain-tumor-detection\\dependencies\\lib\\site-packages (from tensorflow==2.10) (18.1.1)\n",
      "Requirement already satisfied: numpy>=1.20 in c:\\users\\matthew chuang\\documents\\github\\csc3009-brain-tumor-detection\\dependencies\\lib\\site-packages (from tensorflow==2.10) (1.26.4)\n",
      "Requirement already satisfied: opt-einsum>=2.3.2 in c:\\users\\matthew chuang\\documents\\github\\csc3009-brain-tumor-detection\\dependencies\\lib\\site-packages (from tensorflow==2.10) (3.3.0)\n",
      "Requirement already satisfied: packaging in c:\\users\\matthew chuang\\documents\\github\\csc3009-brain-tumor-detection\\dependencies\\lib\\site-packages (from tensorflow==2.10) (24.0)\n",
      "Requirement already satisfied: protobuf<3.20,>=3.9.2 in c:\\users\\matthew chuang\\documents\\github\\csc3009-brain-tumor-detection\\dependencies\\lib\\site-packages (from tensorflow==2.10) (3.19.6)\n",
      "Requirement already satisfied: setuptools in c:\\users\\matthew chuang\\documents\\github\\csc3009-brain-tumor-detection\\dependencies\\lib\\site-packages (from tensorflow==2.10) (68.0.0)\n",
      "Requirement already satisfied: six>=1.12.0 in c:\\users\\matthew chuang\\documents\\github\\csc3009-brain-tumor-detection\\dependencies\\lib\\site-packages (from tensorflow==2.10) (1.16.0)\n",
      "Requirement already satisfied: termcolor>=1.1.0 in c:\\users\\matthew chuang\\documents\\github\\csc3009-brain-tumor-detection\\dependencies\\lib\\site-packages (from tensorflow==2.10) (2.4.0)\n",
      "Requirement already satisfied: typing-extensions>=3.6.6 in c:\\users\\matthew chuang\\documents\\github\\csc3009-brain-tumor-detection\\dependencies\\lib\\site-packages (from tensorflow==2.10) (4.12.1)\n",
      "Requirement already satisfied: wrapt>=1.11.0 in c:\\users\\matthew chuang\\documents\\github\\csc3009-brain-tumor-detection\\dependencies\\lib\\site-packages (from tensorflow==2.10) (1.16.0)\n",
      "Requirement already satisfied: tensorflow-io-gcs-filesystem>=0.23.1 in c:\\users\\matthew chuang\\documents\\github\\csc3009-brain-tumor-detection\\dependencies\\lib\\site-packages (from tensorflow==2.10) (0.31.0)\n",
      "Requirement already satisfied: grpcio<2.0,>=1.24.3 in c:\\users\\matthew chuang\\documents\\github\\csc3009-brain-tumor-detection\\dependencies\\lib\\site-packages (from tensorflow==2.10) (1.64.1)\n",
      "Requirement already satisfied: tensorboard<2.11,>=2.10 in c:\\users\\matthew chuang\\documents\\github\\csc3009-brain-tumor-detection\\dependencies\\lib\\site-packages (from tensorflow==2.10) (2.10.1)\n",
      "Requirement already satisfied: tensorflow-estimator<2.11,>=2.10.0 in c:\\users\\matthew chuang\\documents\\github\\csc3009-brain-tumor-detection\\dependencies\\lib\\site-packages (from tensorflow==2.10) (2.10.0)\n",
      "Requirement already satisfied: keras<2.11,>=2.10.0 in c:\\users\\matthew chuang\\documents\\github\\csc3009-brain-tumor-detection\\dependencies\\lib\\site-packages (from tensorflow==2.10) (2.10.0)\n",
      "Requirement already satisfied: wheel<1.0,>=0.23.0 in c:\\users\\matthew chuang\\documents\\github\\csc3009-brain-tumor-detection\\dependencies\\lib\\site-packages (from astunparse>=1.6.0->tensorflow==2.10) (0.40.0)\n",
      "Requirement already satisfied: google-auth<3,>=1.6.3 in c:\\users\\matthew chuang\\documents\\github\\csc3009-brain-tumor-detection\\dependencies\\lib\\site-packages (from tensorboard<2.11,>=2.10->tensorflow==2.10) (2.30.0)\n",
      "Requirement already satisfied: google-auth-oauthlib<0.5,>=0.4.1 in c:\\users\\matthew chuang\\documents\\github\\csc3009-brain-tumor-detection\\dependencies\\lib\\site-packages (from tensorboard<2.11,>=2.10->tensorflow==2.10) (0.4.6)\n",
      "Requirement already satisfied: markdown>=2.6.8 in c:\\users\\matthew chuang\\documents\\github\\csc3009-brain-tumor-detection\\dependencies\\lib\\site-packages (from tensorboard<2.11,>=2.10->tensorflow==2.10) (3.6)\n",
      "Requirement already satisfied: requests<3,>=2.21.0 in c:\\users\\matthew chuang\\documents\\github\\csc3009-brain-tumor-detection\\dependencies\\lib\\site-packages (from tensorboard<2.11,>=2.10->tensorflow==2.10) (2.32.3)\n",
      "Requirement already satisfied: tensorboard-data-server<0.7.0,>=0.6.0 in c:\\users\\matthew chuang\\documents\\github\\csc3009-brain-tumor-detection\\dependencies\\lib\\site-packages (from tensorboard<2.11,>=2.10->tensorflow==2.10) (0.6.1)\n",
      "Requirement already satisfied: tensorboard-plugin-wit>=1.6.0 in c:\\users\\matthew chuang\\documents\\github\\csc3009-brain-tumor-detection\\dependencies\\lib\\site-packages (from tensorboard<2.11,>=2.10->tensorflow==2.10) (1.8.1)\n",
      "Requirement already satisfied: werkzeug>=1.0.1 in c:\\users\\matthew chuang\\documents\\github\\csc3009-brain-tumor-detection\\dependencies\\lib\\site-packages (from tensorboard<2.11,>=2.10->tensorflow==2.10) (3.0.3)\n",
      "Requirement already satisfied: cachetools<6.0,>=2.0.0 in c:\\users\\matthew chuang\\documents\\github\\csc3009-brain-tumor-detection\\dependencies\\lib\\site-packages (from google-auth<3,>=1.6.3->tensorboard<2.11,>=2.10->tensorflow==2.10) (5.3.3)\n",
      "Requirement already satisfied: pyasn1-modules>=0.2.1 in c:\\users\\matthew chuang\\documents\\github\\csc3009-brain-tumor-detection\\dependencies\\lib\\site-packages (from google-auth<3,>=1.6.3->tensorboard<2.11,>=2.10->tensorflow==2.10) (0.4.0)\n",
      "Requirement already satisfied: rsa<5,>=3.1.4 in c:\\users\\matthew chuang\\documents\\github\\csc3009-brain-tumor-detection\\dependencies\\lib\\site-packages (from google-auth<3,>=1.6.3->tensorboard<2.11,>=2.10->tensorflow==2.10) (4.9)\n",
      "Requirement already satisfied: requests-oauthlib>=0.7.0 in c:\\users\\matthew chuang\\documents\\github\\csc3009-brain-tumor-detection\\dependencies\\lib\\site-packages (from google-auth-oauthlib<0.5,>=0.4.1->tensorboard<2.11,>=2.10->tensorflow==2.10) (2.0.0)\n",
      "Requirement already satisfied: importlib-metadata>=4.4 in c:\\users\\matthew chuang\\documents\\github\\csc3009-brain-tumor-detection\\dependencies\\lib\\site-packages (from markdown>=2.6.8->tensorboard<2.11,>=2.10->tensorflow==2.10) (7.1.0)\n",
      "Requirement already satisfied: charset-normalizer<4,>=2 in c:\\users\\matthew chuang\\documents\\github\\csc3009-brain-tumor-detection\\dependencies\\lib\\site-packages (from requests<3,>=2.21.0->tensorboard<2.11,>=2.10->tensorflow==2.10) (3.3.2)\n",
      "Requirement already satisfied: idna<4,>=2.5 in c:\\users\\matthew chuang\\documents\\github\\csc3009-brain-tumor-detection\\dependencies\\lib\\site-packages (from requests<3,>=2.21.0->tensorboard<2.11,>=2.10->tensorflow==2.10) (3.7)\n",
      "Requirement already satisfied: urllib3<3,>=1.21.1 in c:\\users\\matthew chuang\\documents\\github\\csc3009-brain-tumor-detection\\dependencies\\lib\\site-packages (from requests<3,>=2.21.0->tensorboard<2.11,>=2.10->tensorflow==2.10) (2.2.1)\n",
      "Requirement already satisfied: certifi>=2017.4.17 in c:\\users\\matthew chuang\\documents\\github\\csc3009-brain-tumor-detection\\dependencies\\lib\\site-packages (from requests<3,>=2.21.0->tensorboard<2.11,>=2.10->tensorflow==2.10) (2024.6.2)\n",
      "Requirement already satisfied: MarkupSafe>=2.1.1 in c:\\users\\matthew chuang\\documents\\github\\csc3009-brain-tumor-detection\\dependencies\\lib\\site-packages (from werkzeug>=1.0.1->tensorboard<2.11,>=2.10->tensorflow==2.10) (2.1.5)\n",
      "Requirement already satisfied: zipp>=0.5 in c:\\users\\matthew chuang\\documents\\github\\csc3009-brain-tumor-detection\\dependencies\\lib\\site-packages (from importlib-metadata>=4.4->markdown>=2.6.8->tensorboard<2.11,>=2.10->tensorflow==2.10) (3.19.1)\n",
      "Requirement already satisfied: pyasn1<0.7.0,>=0.4.6 in c:\\users\\matthew chuang\\documents\\github\\csc3009-brain-tumor-detection\\dependencies\\lib\\site-packages (from pyasn1-modules>=0.2.1->google-auth<3,>=1.6.3->tensorboard<2.11,>=2.10->tensorflow==2.10) (0.6.0)\n",
      "Requirement already satisfied: oauthlib>=3.0.0 in c:\\users\\matthew chuang\\documents\\github\\csc3009-brain-tumor-detection\\dependencies\\lib\\site-packages (from requests-oauthlib>=0.7.0->google-auth-oauthlib<0.5,>=0.4.1->tensorboard<2.11,>=2.10->tensorflow==2.10) (3.2.2)\n",
      "Note: you may need to restart the kernel to use updated packages.\n"
     ]
    },
    {
     "name": "stderr",
     "output_type": "stream",
     "text": [
      "\n",
      "[notice] A new release of pip is available: 24.0 -> 24.1.1\n",
      "[notice] To update, run: python.exe -m pip install --upgrade pip\n"
     ]
    },
    {
     "name": "stdout",
     "output_type": "stream",
     "text": [
      "Requirement already satisfied: scikit-learn in c:\\users\\matthew chuang\\documents\\github\\csc3009-brain-tumor-detection\\dependencies\\lib\\site-packages (1.5.0)\n",
      "Requirement already satisfied: numpy>=1.19.5 in c:\\users\\matthew chuang\\documents\\github\\csc3009-brain-tumor-detection\\dependencies\\lib\\site-packages (from scikit-learn) (1.26.4)\n",
      "Requirement already satisfied: scipy>=1.6.0 in c:\\users\\matthew chuang\\documents\\github\\csc3009-brain-tumor-detection\\dependencies\\lib\\site-packages (from scikit-learn) (1.13.1)\n",
      "Requirement already satisfied: joblib>=1.2.0 in c:\\users\\matthew chuang\\documents\\github\\csc3009-brain-tumor-detection\\dependencies\\lib\\site-packages (from scikit-learn) (1.4.2)\n",
      "Requirement already satisfied: threadpoolctl>=3.1.0 in c:\\users\\matthew chuang\\documents\\github\\csc3009-brain-tumor-detection\\dependencies\\lib\\site-packages (from scikit-learn) (3.5.0)\n",
      "Note: you may need to restart the kernel to use updated packages.\n"
     ]
    },
    {
     "name": "stderr",
     "output_type": "stream",
     "text": [
      "\n",
      "[notice] A new release of pip is available: 24.0 -> 24.1.1\n",
      "[notice] To update, run: python.exe -m pip install --upgrade pip\n"
     ]
    },
    {
     "name": "stdout",
     "output_type": "stream",
     "text": [
      "Requirement already satisfied: matplotlib in c:\\users\\matthew chuang\\documents\\github\\csc3009-brain-tumor-detection\\dependencies\\lib\\site-packages (3.9.0)\n",
      "Requirement already satisfied: contourpy>=1.0.1 in c:\\users\\matthew chuang\\documents\\github\\csc3009-brain-tumor-detection\\dependencies\\lib\\site-packages (from matplotlib) (1.2.1)\n",
      "Requirement already satisfied: cycler>=0.10 in c:\\users\\matthew chuang\\documents\\github\\csc3009-brain-tumor-detection\\dependencies\\lib\\site-packages (from matplotlib) (0.12.1)\n",
      "Requirement already satisfied: fonttools>=4.22.0 in c:\\users\\matthew chuang\\documents\\github\\csc3009-brain-tumor-detection\\dependencies\\lib\\site-packages (from matplotlib) (4.53.0)\n",
      "Requirement already satisfied: kiwisolver>=1.3.1 in c:\\users\\matthew chuang\\documents\\github\\csc3009-brain-tumor-detection\\dependencies\\lib\\site-packages (from matplotlib) (1.4.5)\n",
      "Requirement already satisfied: numpy>=1.23 in c:\\users\\matthew chuang\\documents\\github\\csc3009-brain-tumor-detection\\dependencies\\lib\\site-packages (from matplotlib) (1.26.4)\n",
      "Requirement already satisfied: packaging>=20.0 in c:\\users\\matthew chuang\\documents\\github\\csc3009-brain-tumor-detection\\dependencies\\lib\\site-packages (from matplotlib) (24.0)\n",
      "Requirement already satisfied: pillow>=8 in c:\\users\\matthew chuang\\documents\\github\\csc3009-brain-tumor-detection\\dependencies\\lib\\site-packages (from matplotlib) (10.3.0)\n",
      "Requirement already satisfied: pyparsing>=2.3.1 in c:\\users\\matthew chuang\\documents\\github\\csc3009-brain-tumor-detection\\dependencies\\lib\\site-packages (from matplotlib) (3.1.2)\n",
      "Requirement already satisfied: python-dateutil>=2.7 in c:\\users\\matthew chuang\\documents\\github\\csc3009-brain-tumor-detection\\dependencies\\lib\\site-packages (from matplotlib) (2.9.0.post0)\n",
      "Requirement already satisfied: importlib-resources>=3.2.0 in c:\\users\\matthew chuang\\documents\\github\\csc3009-brain-tumor-detection\\dependencies\\lib\\site-packages (from matplotlib) (6.4.0)\n",
      "Requirement already satisfied: zipp>=3.1.0 in c:\\users\\matthew chuang\\documents\\github\\csc3009-brain-tumor-detection\\dependencies\\lib\\site-packages (from importlib-resources>=3.2.0->matplotlib) (3.19.1)\n",
      "Requirement already satisfied: six>=1.5 in c:\\users\\matthew chuang\\documents\\github\\csc3009-brain-tumor-detection\\dependencies\\lib\\site-packages (from python-dateutil>=2.7->matplotlib) (1.16.0)\n",
      "Note: you may need to restart the kernel to use updated packages.\n"
     ]
    },
    {
     "name": "stderr",
     "output_type": "stream",
     "text": [
      "\n",
      "[notice] A new release of pip is available: 24.0 -> 24.1.1\n",
      "[notice] To update, run: python.exe -m pip install --upgrade pip\n"
     ]
    }
   ],
   "source": [
    "%pip install tensorflow==2.10\n",
    "%pip install scikit-learn\n",
    "%pip install matplotlib\n",
    "%matplotlib inline"
   ]
  },
  {
   "cell_type": "code",
   "execution_count": 2,
   "metadata": {},
   "outputs": [],
   "source": [
    "import numpy as np\n",
    "# Machine Learning\n",
    "import tensorflow as tf\n",
    "from tensorflow.keras.applications import ResNet50\n",
    "from tensorflow.keras.layers import Dense, Dropout, GlobalAveragePooling2D, BatchNormalization\n",
    "from tensorflow.keras.models import Model\n",
    "from tensorflow.keras.optimizers import Adam\n",
    "from tensorflow.keras.callbacks import ModelCheckpoint, EarlyStopping\n",
    "from tensorflow.keras.utils import to_categorical\n",
    "from tensorflow.keras.preprocessing.image import ImageDataGenerator\n",
    "from sklearn.model_selection import train_test_split\n",
    "# Plotting\n",
    "import matplotlib.pyplot as plt"
   ]
  },
  {
   "cell_type": "markdown",
   "metadata": {},
   "source": [
    "### Optional: GPU Acceleration Check\n",
    "Checks Tensorflow Version and GPU detection. \n",
    "If GPU detected, output should be something like \"Num GPUs Available:  1\""
   ]
  },
  {
   "cell_type": "code",
   "execution_count": 3,
   "metadata": {},
   "outputs": [
    {
     "name": "stdout",
     "output_type": "stream",
     "text": [
      "TensorFlow version: 2.10.0\n",
      "Num GPUs Available:  1\n",
      "Physical Devices: [PhysicalDevice(name='/physical_device:CPU:0', device_type='CPU'), PhysicalDevice(name='/physical_device:GPU:0', device_type='GPU')]\n"
     ]
    }
   ],
   "source": [
    "print(\"TensorFlow version:\", tf.__version__)\n",
    "print(\"Num GPUs Available: \", len(tf.config.list_physical_devices('GPU')))\n",
    "physical_devices = tf.config.list_physical_devices()\n",
    "print(\"Physical Devices:\", physical_devices)\n",
    "gpus = tf.config.experimental.list_physical_devices('GPU')\n",
    "if gpus:\n",
    "    try:\n",
    "        for gpu in gpus:\n",
    "            tf.config.experimental.set_memory_growth(gpu, True)\n",
    "    except RuntimeError as e:\n",
    "        print(e)"
   ]
  },
  {
   "cell_type": "markdown",
   "metadata": {},
   "source": [
    "### Load and Split Prepared Data\n",
    "Loads in preprocessed data from the ./prepared_data directory for x and y features. Splits for training and testing 80/20 ratio"
   ]
  },
  {
   "cell_type": "code",
   "execution_count": 4,
   "metadata": {},
   "outputs": [
    {
     "name": "stdout",
     "output_type": "stream",
     "text": [
      "Augmented X Training Data\n",
      "Number of Rows: 3072\n",
      "Pixel Dimensions: 224x224x3\n",
      "\n",
      "Augmented Y Training Data\n",
      "Number of Rows: 3072\n",
      "Number of Classes: 4\n",
      "X Testing Data\n",
      "Number of Rows: 768\n",
      "Pixel Dimensions: 224x224x3\n",
      "\n",
      "Y Testing Data\n",
      "Number of Rows: 768\n",
      "Number of Classes: 4\n"
     ]
    }
   ],
   "source": [
    "# Load the data\n",
    "x_input = np.load('prepared_data/x_input_combined.npy')\n",
    "y_output = np.load('prepared_data/y_output_combined.npy')\n",
    "\n",
    "# Ensure y is one-hot encoded if not already\n",
    "y_output = to_categorical(y_output, num_classes=4)  # Assuming there are 4 classes\n",
    "\n",
    "# Resizes images to 224 x 224 for optimal size for VGG models\n",
    "# x_input_resized = np.array([tf.image.resize(image, (224, 224)).numpy() for image in x_input])\n",
    "\n",
    "# Define the data augmentation generator\n",
    "datagen = ImageDataGenerator(\n",
    "    rotation_range=40,\n",
    "    width_shift_range=0.2,\n",
    "    height_shift_range=0.2,\n",
    "    shear_range=0.2,\n",
    "    zoom_range=0.2,\n",
    "    horizontal_flip=True,\n",
    "    fill_mode='nearest'\n",
    ")\n",
    "\n",
    "# Create a list to store the augmented images and their labels\n",
    "augmented_images = []\n",
    "augmented_labels = []\n",
    "\n",
    "# Generate augmented images\n",
    "for img, label in zip(x_input, y_output):\n",
    "    img = img.reshape((1,) + img.shape)  # Reshape image for ImageDataGenerator\n",
    "    i = 0\n",
    "    for batch in datagen.flow(img, batch_size=1):\n",
    "        augmented_images.append(batch[0])\n",
    "        augmented_labels.append(label)\n",
    "        i += 1\n",
    "        if i >= 1:  # Generate 4 augmented images for each original image\n",
    "            break\n",
    "\n",
    "# Convert the lists to numpy arrays\n",
    "x_input_augmented = np.array(augmented_images)\n",
    "y_output_augmented = np.array(augmented_labels)\n",
    "\n",
    "# Combine the original and augmented data\n",
    "x_input_combined = np.concatenate((x_input, x_input_augmented), axis=0)\n",
    "y_output_combined = np.concatenate((y_output, y_output_augmented), axis=0)\n",
    "\n",
    "# Split the combined data into training and testing sets\n",
    "x_input_train, x_input_test, y_output_train, y_output_test = train_test_split(x_input_combined, y_output_combined, test_size=0.2, random_state=42)\n",
    "\n",
    "# Print new dimensions of the data\n",
    "print(f'Augmented X Training Data\\nNumber of Rows: {x_input_train.shape[0]}\\nPixel Dimensions: {x_input_train.shape[1]}x{x_input_train.shape[2]}x{x_input_train.shape[3]}\\n')\n",
    "print(f'Augmented Y Training Data\\nNumber of Rows: {y_output_train.shape[0]}\\nNumber of Classes: {y_output_train.shape[1]}')\n",
    "print(f'X Testing Data\\nNumber of Rows: {x_input_test.shape[0]}\\nPixel Dimensions: {x_input_test.shape[1]}x{x_input_test.shape[2]}x{x_input_test.shape[3]}\\n')\n",
    "print(f'Y Testing Data\\nNumber of Rows: {y_output_test.shape[0]}\\nNumber of Classes: {y_output_test.shape[1]}')"
   ]
  },
  {
   "cell_type": "code",
   "execution_count": 5,
   "metadata": {},
   "outputs": [],
   "source": [
    "# # Load the data\n",
    "# x_input = np.load('prepared_data/x_input_combined.npy')\n",
    "# y_output = np.load('prepared_data/y_output_combined.npy')\n",
    "\n",
    "# # Ensure y is one-hot encoded if not already\n",
    "# y_output = to_categorical(y_output, num_classes=4)  # Assuming there are 4 classes\n",
    "# # Resizes images to 224 x 224 for optimal size for VGG models\n",
    "# x_input_resized = np.array([tf.image.resize(image, (224, 224)).numpy() for image in x_input])\n",
    "\n",
    "# # Split the data into training and testing sets\n",
    "# x_input_train, x_input_test, y_output_train, y_output_test = train_test_split(x_input_resized, y_output, test_size=0.2, random_state=42)\n",
    "\n",
    "# # Printing Dimensions of data\n",
    "# print(f'X Training Data\\nNumber of Rows: {x_input_train.shape[0]}\\nPixel Dimensions: {x_input_train.shape[1]}x{x_input_train.shape[2]}x{x_input_train.shape[3]}\\n')\n",
    "# print(f'Y Training Data\\nNumber of Rows: {y_output_train.shape[0]}\\nNumber of Classes: {y_output_train.shape[1]}\\n')\n",
    "# print(f'X Testing Data\\nNumber of Rows: {x_input_test.shape[0]}\\nPixel Dimensions: {x_input_test.shape[1]}x{x_input_test.shape[2]}x{x_input_test.shape[3]}\\n')\n",
    "# print(f'Y Training Data\\nNumber of Rows: {y_output_test.shape[0]}\\nNumber of Classes: {y_output_test.shape[1]}')"
   ]
  },
  {
   "cell_type": "markdown",
   "metadata": {},
   "source": [
    "### Loading and Defining ResNet Models"
   ]
  },
  {
   "cell_type": "code",
   "execution_count": 6,
   "metadata": {},
   "outputs": [],
   "source": [
    "# Load the ResNet50 model pre-trained on ImageNet\n",
    "base_resnet50_model = ResNet50(weights='imagenet', include_top=False, input_shape=(224, 224, 3))\n",
    "\n",
    "# Add custom layers on top of the ResNet50 base model\n",
    "x = base_resnet50_model.output\n",
    "x = GlobalAveragePooling2D()(x)\n",
    "x = BatchNormalization()(x)\n",
    "x = Dense(1024, activation='relu', kernel_constraint=tf.keras.constraints.MaxNorm(3))(x)\n",
    "x = Dropout(0.5)(x)\n",
    "x = Dense(512, activation='relu', kernel_constraint=tf.keras.constraints.MaxNorm(3))(x)\n",
    "x = Dropout(0.5)(x)\n",
    "output_layer_resnet50 = Dense(4, activation='softmax')(x)  # 4 classes: no tumor, glioma, meningioma, pituitary\n",
    "\n",
    "# Define the model\n",
    "resnet50_brain_tumor_model = Model(inputs=base_resnet50_model.input, outputs=output_layer_resnet50)\n",
    "\n",
    "# # Freeze the layers of the base model\n",
    "for layer in base_resnet50_model.layers[-10:]:\n",
    "    layer.trainable = False"
   ]
  },
  {
   "cell_type": "code",
   "execution_count": 7,
   "metadata": {},
   "outputs": [],
   "source": [
    "# # Load the ResNet50 model pre-trained on ImageNet\n",
    "# base_resnet152_model = ResNet152(weights='imagenet', include_top=False, input_shape=(128, 128, 3))\n",
    "\n",
    "# # Adds global average pooling layer to reduce dimensions of features     \n",
    "# pooled_output_152 = GlobalAveragePooling2D()(base_resnet152_model.output)\n",
    "# # Adds a dense lyaer with 1024 neurons using RELU activation function     \n",
    "# dense_layer_152 = Dense(1024, activation='relu', kernel_regularizer=tf.keras.regularizers.l2(0.01))(pooled_output_152)\n",
    "# # Add dropout layer with 50% dropout rate for regularization to avoid overfitting \n",
    "# dropout_layer_152 = Dropout(0.6)(dense_layer_152)\n",
    "# # Add final output layer with four neurons corresponding to four classes with activation as softmax to predict probability of each class\n",
    "# output_layer_152 = Dense(4, activation='softmax')(dropout_layer_152)  # 4 classes: no tumor, glioma, meningioma, pituitary\n",
    "\n",
    "# # Define the model\n",
    "# resnet152_brain_tumor_model = Model(inputs=base_resnet152_model.input, outputs=output_layer_152)\n",
    "\n",
    "# # # Freeze the layers of the base model\n",
    "# # for layer in resnet152_brain_tumor_model.layers:\n",
    "# #     layer.trainable = False\n",
    "\n",
    "# # Freeze the initial layers of the base model, unfreeze the top layers for fine-tuning\n",
    "# for layer in resnet152_brain_tumor_model.layers[:-20]:  # Unfreeze the last 20 layers\n",
    "#     layer.trainable = False\n",
    "# for layer in resnet152_brain_tumor_model.layers[-20:]:  # Freeze all the other layers\n",
    "#     layer.trainable = True"
   ]
  },
  {
   "cell_type": "markdown",
   "metadata": {},
   "source": [
    "### Training the ResNet Models"
   ]
  },
  {
   "cell_type": "code",
   "execution_count": 8,
   "metadata": {},
   "outputs": [
    {
     "name": "stdout",
     "output_type": "stream",
     "text": [
      "Epoch 1/30\n",
      "96/96 [==============================] - ETA: 0s - loss: 0.7864 - accuracy: 0.7607\n",
      "Epoch 1: val_loss improved from inf to 447.62302, saving model to model_checkpoints\\resnet50_brain_tumor_model.keras\n",
      "96/96 [==============================] - 20s 167ms/step - loss: 0.7864 - accuracy: 0.7607 - val_loss: 447.6230 - val_accuracy: 0.2747\n",
      "Epoch 2/30\n",
      "96/96 [==============================] - ETA: 0s - loss: 0.3093 - accuracy: 0.9111\n",
      "Epoch 2: val_loss improved from 447.62302 to 8.37914, saving model to model_checkpoints\\resnet50_brain_tumor_model.keras\n",
      "96/96 [==============================] - 15s 159ms/step - loss: 0.3093 - accuracy: 0.9111 - val_loss: 8.3791 - val_accuracy: 0.2253\n",
      "Epoch 3/30\n",
      "96/96 [==============================] - ETA: 0s - loss: 0.3215 - accuracy: 0.9040\n",
      "Epoch 3: val_loss improved from 8.37914 to 3.25083, saving model to model_checkpoints\\resnet50_brain_tumor_model.keras\n",
      "96/96 [==============================] - 16s 162ms/step - loss: 0.3215 - accuracy: 0.9040 - val_loss: 3.2508 - val_accuracy: 0.2747\n",
      "Epoch 4/30\n",
      "96/96 [==============================] - ETA: 0s - loss: 0.1507 - accuracy: 0.9528\n",
      "Epoch 4: val_loss did not improve from 3.25083\n",
      "96/96 [==============================] - 15s 155ms/step - loss: 0.1507 - accuracy: 0.9528 - val_loss: 6.1700 - val_accuracy: 0.2591\n",
      "Epoch 5/30\n",
      "96/96 [==============================] - ETA: 0s - loss: 0.1781 - accuracy: 0.9453\n",
      "Epoch 5: val_loss did not improve from 3.25083\n",
      "96/96 [==============================] - 15s 156ms/step - loss: 0.1781 - accuracy: 0.9453 - val_loss: 16.0874 - val_accuracy: 0.1888\n",
      "Epoch 6/30\n",
      "96/96 [==============================] - ETA: 0s - loss: 0.1426 - accuracy: 0.9521\n",
      "Epoch 6: val_loss did not improve from 3.25083\n",
      "96/96 [==============================] - 15s 158ms/step - loss: 0.1426 - accuracy: 0.9521 - val_loss: 9.6576 - val_accuracy: 0.2513\n",
      "Epoch 7/30\n",
      "96/96 [==============================] - ETA: 0s - loss: 0.1092 - accuracy: 0.9658\n",
      "Epoch 7: val_loss did not improve from 3.25083\n",
      "96/96 [==============================] - 15s 158ms/step - loss: 0.1092 - accuracy: 0.9658 - val_loss: 5.7808 - val_accuracy: 0.2773\n",
      "Epoch 8/30\n",
      "96/96 [==============================] - ETA: 0s - loss: 0.0867 - accuracy: 0.9710\n",
      "Epoch 8: val_loss did not improve from 3.25083\n",
      "96/96 [==============================] - 15s 157ms/step - loss: 0.0867 - accuracy: 0.9710 - val_loss: 7.1030 - val_accuracy: 0.3268\n",
      "Epoch 9/30\n",
      "96/96 [==============================] - ETA: 0s - loss: 0.0973 - accuracy: 0.9740\n",
      "Epoch 9: val_loss improved from 3.25083 to 1.06577, saving model to model_checkpoints\\resnet50_brain_tumor_model.keras\n",
      "96/96 [==============================] - 16s 163ms/step - loss: 0.0973 - accuracy: 0.9740 - val_loss: 1.0658 - val_accuracy: 0.6536\n",
      "Epoch 10/30\n",
      "96/96 [==============================] - ETA: 0s - loss: 0.4731 - accuracy: 0.8750\n",
      "Epoch 10: val_loss did not improve from 1.06577\n",
      "96/96 [==============================] - 15s 161ms/step - loss: 0.4731 - accuracy: 0.8750 - val_loss: 56.2456 - val_accuracy: 0.2839\n",
      "Epoch 11/30\n",
      "96/96 [==============================] - ETA: 0s - loss: 0.3977 - accuracy: 0.8939\n",
      "Epoch 11: val_loss did not improve from 1.06577\n",
      "96/96 [==============================] - 15s 160ms/step - loss: 0.3977 - accuracy: 0.8939 - val_loss: 9.1235 - val_accuracy: 0.4167\n",
      "Epoch 12/30\n",
      "96/96 [==============================] - ETA: 0s - loss: 0.3587 - accuracy: 0.8991\n",
      "Epoch 12: val_loss did not improve from 1.06577\n",
      "96/96 [==============================] - 15s 156ms/step - loss: 0.3587 - accuracy: 0.8991 - val_loss: 1.3604 - val_accuracy: 0.7148\n",
      "Epoch 13/30\n",
      "96/96 [==============================] - ETA: 0s - loss: 0.1281 - accuracy: 0.9609\n",
      "Epoch 13: val_loss improved from 1.06577 to 0.44012, saving model to model_checkpoints\\resnet50_brain_tumor_model.keras\n",
      "96/96 [==============================] - 15s 160ms/step - loss: 0.1281 - accuracy: 0.9609 - val_loss: 0.4401 - val_accuracy: 0.8802\n",
      "Epoch 14/30\n",
      "96/96 [==============================] - ETA: 0s - loss: 0.0828 - accuracy: 0.9788\n",
      "Epoch 14: val_loss did not improve from 0.44012\n",
      "96/96 [==============================] - 15s 159ms/step - loss: 0.0828 - accuracy: 0.9788 - val_loss: 0.7538 - val_accuracy: 0.7669\n",
      "Epoch 15/30\n",
      "96/96 [==============================] - ETA: 0s - loss: 0.0615 - accuracy: 0.9808\n",
      "Epoch 15: val_loss improved from 0.44012 to 0.31933, saving model to model_checkpoints\\resnet50_brain_tumor_model.keras\n",
      "96/96 [==============================] - 15s 161ms/step - loss: 0.0615 - accuracy: 0.9808 - val_loss: 0.3193 - val_accuracy: 0.9219\n",
      "Epoch 16/30\n",
      "96/96 [==============================] - ETA: 0s - loss: 0.0301 - accuracy: 0.9922\n",
      "Epoch 16: val_loss improved from 0.31933 to 0.28988, saving model to model_checkpoints\\resnet50_brain_tumor_model.keras\n",
      "96/96 [==============================] - 15s 161ms/step - loss: 0.0301 - accuracy: 0.9922 - val_loss: 0.2899 - val_accuracy: 0.9245\n",
      "Epoch 17/30\n",
      "96/96 [==============================] - ETA: 0s - loss: 0.0423 - accuracy: 0.9876\n",
      "Epoch 17: val_loss did not improve from 0.28988\n",
      "96/96 [==============================] - 15s 155ms/step - loss: 0.0423 - accuracy: 0.9876 - val_loss: 0.8174 - val_accuracy: 0.8594\n",
      "Epoch 18/30\n",
      "96/96 [==============================] - ETA: 0s - loss: 0.0446 - accuracy: 0.9863\n",
      "Epoch 18: val_loss did not improve from 0.28988\n",
      "96/96 [==============================] - 15s 155ms/step - loss: 0.0446 - accuracy: 0.9863 - val_loss: 0.6431 - val_accuracy: 0.8242\n",
      "Epoch 19/30\n",
      "96/96 [==============================] - ETA: 0s - loss: 0.0469 - accuracy: 0.9850\n",
      "Epoch 19: val_loss improved from 0.28988 to 0.24532, saving model to model_checkpoints\\resnet50_brain_tumor_model.keras\n",
      "96/96 [==============================] - 15s 160ms/step - loss: 0.0469 - accuracy: 0.9850 - val_loss: 0.2453 - val_accuracy: 0.9388\n",
      "Epoch 20/30\n",
      "96/96 [==============================] - ETA: 0s - loss: 0.0498 - accuracy: 0.9831\n",
      "Epoch 20: val_loss did not improve from 0.24532\n",
      "96/96 [==============================] - 15s 155ms/step - loss: 0.0498 - accuracy: 0.9831 - val_loss: 0.2673 - val_accuracy: 0.9206\n",
      "Epoch 21/30\n",
      "47/96 [=============>................] - ETA: 7s - loss: 0.0849 - accuracy: 0.9754"
     ]
    }
   ],
   "source": [
    "# Compile the model\n",
    "# resnet50_brain_tumor_model.compile(optimizer=Adam(), loss='categorical_crossentropy', metrics=['accuracy'])\n",
    "resnet50_brain_tumor_model.compile(optimizer=Adam(learning_rate=5e-4), loss='categorical_crossentropy', metrics=['accuracy'])\n",
    "\n",
    "# Define callbacks\n",
    "checkpoint_resnet50 = ModelCheckpoint('model_checkpoints/resnet50_brain_tumor_model.keras', monitor='val_loss', save_best_only=True, verbose=1)\n",
    "# early_stopping_resnet50 = EarlyStopping(monitor='val_loss', patience=10, verbose=1)\n",
    "\n",
    "# Train the model\n",
    "# trained_resnet50_model = resnet50_brain_tumor_model.fit(train_generator, epochs=50, validation_data=val_generator, \n",
    "#                                                 callbacks=[checkpoint_resnet50, early_stopping_resnet50])\n",
    "trained_resnet50_model = resnet50_brain_tumor_model.fit(x_input_train, y_output_train, epochs=30, validation_data=(x_input_test, y_output_test), \n",
    "                                                callbacks=[checkpoint_resnet50])"
   ]
  },
  {
   "cell_type": "code",
   "execution_count": null,
   "metadata": {},
   "outputs": [],
   "source": [
    "# # Compile the model\n",
    "# # resnet152_brain_tumor_model.compile(optimizer=Adam(), loss='categorical_crossentropy', metrics=['accuracy'])\n",
    "# resnet152_brain_tumor_model.compile(optimizer=Adam(learning_rate=1e-4), loss='categorical_crossentropy', metrics=['accuracy'])\n",
    "\n",
    "\n",
    "# # Define callbacks\n",
    "# checkpoint_resnet152 = ModelCheckpoint('model_checkpoints/resnet152_brain_tumor_model.keras', monitor='val_loss', save_best_only=True, verbose=1)\n",
    "# early_stopping_resnet152 = EarlyStopping(monitor='val_loss', patience=10, verbose=1)\n",
    "\n",
    "# # Train the model\n",
    "# trained_resnet152_model = resnet152_brain_tumor_model.fit(x_input_train, y_output_train, epochs=50, validation_data=(x_input_test, y_output_test), \n",
    "#                                                 callbacks=[checkpoint_resnet152, early_stopping_resnet152])"
   ]
  },
  {
   "cell_type": "markdown",
   "metadata": {},
   "source": [
    "### Plotting ResNet Model Performances"
   ]
  },
  {
   "cell_type": "code",
   "execution_count": null,
   "metadata": {},
   "outputs": [],
   "source": [
    "def plot_model_performance(history, title):\n",
    "    \"\"\"\n",
    "    Plot training and validation loss and accuracy.\n",
    "\n",
    "    Parameters:\n",
    "    - history: Keras History object\n",
    "    - title: str, title of the plot\n",
    "    \"\"\"\n",
    "    # Statistics\n",
    "    for epoch in range(len(history.history['loss'])):\n",
    "        print(f\"Epoch {epoch + 1}:\")\n",
    "        print(f\"  Training Loss: {history.history['loss'][epoch]:.4f}\")\n",
    "        print(f\"  Validation Loss: {history.history['val_loss'][epoch]:.4f}\")\n",
    "        print(f\"  Training Accuracy: {history.history['accuracy'][epoch]:.4f}\")\n",
    "        print(f\"  Validation Accuracy: {history.history['val_accuracy'][epoch]:.4f}\")\n",
    "        print(\"-\" * 40)\n",
    "\n",
    "    plt.figure(figsize=(12, 6))\n",
    "\n",
    "    # Plot loss\n",
    "    plt.subplot(1, 2, 1)\n",
    "    plt.plot(history.history['loss'], label='Training Loss')\n",
    "    plt.plot(history.history['val_loss'], label='Validation Loss')\n",
    "    plt.title('Training and Validation Loss')\n",
    "    plt.xlabel('Epochs')\n",
    "    plt.ylabel('Loss')\n",
    "    plt.legend()\n",
    "\n",
    "    # Plot accuracy\n",
    "    plt.subplot(1, 2, 2)\n",
    "    plt.plot(history.history['accuracy'], label='Training Accuracy')\n",
    "    plt.plot(history.history['val_accuracy'], label='Validation Accuracy')\n",
    "    plt.title('Training and Validation Accuracy')\n",
    "    plt.xlabel('Epochs')\n",
    "    plt.ylabel('Accuracy')\n",
    "    plt.ylim(0, 1)  # Fix the accuracy scale from 0 to 1\n",
    "    plt.legend()\n",
    "\n",
    "    plt.suptitle(title)\n",
    "    plt.show()"
   ]
  },
  {
   "cell_type": "code",
   "execution_count": null,
   "metadata": {},
   "outputs": [
    {
     "name": "stdout",
     "output_type": "stream",
     "text": [
      "Epoch 1:\n",
      "  Training Loss: 2.0776\n",
      "  Validation Loss: 9792.6289\n",
      "  Training Accuracy: 0.5589\n",
      "  Validation Accuracy: 0.2253\n",
      "----------------------------------------\n",
      "Epoch 2:\n",
      "  Training Loss: 1.2766\n",
      "  Validation Loss: 1.4362\n",
      "  Training Accuracy: 0.5684\n",
      "  Validation Accuracy: 0.2747\n",
      "----------------------------------------\n",
      "Epoch 3:\n",
      "  Training Loss: 0.7232\n",
      "  Validation Loss: 2.6456\n",
      "  Training Accuracy: 0.7178\n",
      "  Validation Accuracy: 0.2591\n",
      "----------------------------------------\n",
      "Epoch 4:\n",
      "  Training Loss: 0.6532\n",
      "  Validation Loss: 1.6395\n",
      "  Training Accuracy: 0.7588\n",
      "  Validation Accuracy: 0.2253\n",
      "----------------------------------------\n",
      "Epoch 5:\n",
      "  Training Loss: 0.5831\n",
      "  Validation Loss: 1.8755\n",
      "  Training Accuracy: 0.7809\n",
      "  Validation Accuracy: 0.3672\n",
      "----------------------------------------\n",
      "Epoch 6:\n",
      "  Training Loss: 0.4280\n",
      "  Validation Loss: 4.0447\n",
      "  Training Accuracy: 0.8447\n",
      "  Validation Accuracy: 0.2826\n",
      "----------------------------------------\n",
      "Epoch 7:\n",
      "  Training Loss: 0.3109\n",
      "  Validation Loss: 2.6531\n",
      "  Training Accuracy: 0.8932\n",
      "  Validation Accuracy: 0.2682\n",
      "----------------------------------------\n",
      "Epoch 8:\n",
      "  Training Loss: 0.2569\n",
      "  Validation Loss: 6.2797\n",
      "  Training Accuracy: 0.9124\n",
      "  Validation Accuracy: 0.2799\n",
      "----------------------------------------\n",
      "Epoch 9:\n",
      "  Training Loss: 0.8269\n",
      "  Validation Loss: 1.4707\n",
      "  Training Accuracy: 0.7829\n",
      "  Validation Accuracy: 0.3789\n",
      "----------------------------------------\n",
      "Epoch 10:\n",
      "  Training Loss: 1.3627\n",
      "  Validation Loss: 1244.2968\n",
      "  Training Accuracy: 0.5407\n",
      "  Validation Accuracy: 0.3385\n",
      "----------------------------------------\n",
      "Epoch 11:\n",
      "  Training Loss: 0.8651\n",
      "  Validation Loss: 2.0246\n",
      "  Training Accuracy: 0.6670\n",
      "  Validation Accuracy: 0.5716\n",
      "----------------------------------------\n",
      "Epoch 12:\n",
      "  Training Loss: 0.6529\n",
      "  Validation Loss: 1.4817\n",
      "  Training Accuracy: 0.7529\n",
      "  Validation Accuracy: 0.5299\n",
      "----------------------------------------\n"
     ]
    },
    {
     "data": {
      "image/png": "[encoded data removed]",
      "text/plain": [
       "<Figure size 1200x600 with 2 Axes>"
      ]
     },
     "metadata": {},
     "output_type": "display_data"
    }
   ],
   "source": [
    "plot_model_performance(trained_resnet50_model, \"Training Performance for ResNet50\")\n",
    "# plot_model_performance(trained_resnet152_model, \"Training Performance for ResNet152\")"
   ]
  }
 ],
 "metadata": {
  "kernelspec": {
   "display_name": "dependencies",
   "language": "python",
   "name": "python3"
  },
  "language_info": {
   "codemirror_mode": {
    "name": "ipython",
    "version": 3
   },
   "file_extension": ".py",
   "mimetype": "text/x-python",
   "name": "python",
   "nbconvert_exporter": "python",
   "pygments_lexer": "ipython3",
   "version": "3.9.0"
  }
 },
 "nbformat": 4,
 "nbformat_minor": 2
}
